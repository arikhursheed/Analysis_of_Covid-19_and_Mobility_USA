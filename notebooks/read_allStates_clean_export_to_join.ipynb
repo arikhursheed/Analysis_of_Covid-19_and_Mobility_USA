{
 "cells": [
  {
   "cell_type": "code",
   "execution_count": 1,
   "metadata": {},
   "outputs": [],
   "source": [
    "import pandas as pd\n",
    "import numpy as np"
   ]
  },
  {
   "cell_type": "markdown",
   "metadata": {},
   "source": [
    "# Read in csv file for united states COVID-19"
   ]
  },
  {
   "cell_type": "code",
   "execution_count": 2,
   "metadata": {},
   "outputs": [],
   "source": [
    "#no need to read this csv file if we are going to use the next read csv \n",
    "#all_states=pd.read_csv('../data/covid_19_daily_update_allStates.csv')"
   ]
  },
  {
   "cell_type": "code",
   "execution_count": 3,
   "metadata": {},
   "outputs": [],
   "source": [
    "#all_states.head()"
   ]
  },
  {
   "cell_type": "markdown",
   "metadata": {},
   "source": [
    "Clean the data"
   ]
  },
  {
   "cell_type": "code",
   "execution_count": 4,
   "metadata": {},
   "outputs": [],
   "source": [
    "#drop the fisrt and second rows\n",
    "#all_states= all_states.drop([0,1])"
   ]
  },
  {
   "cell_type": "code",
   "execution_count": 5,
   "metadata": {},
   "outputs": [],
   "source": [
    "#turn columns names to lower case and replace spaces and '/' with '_'\n",
    "#all_states.columns = map(str.lower, all_states.columns)\n",
    "#all_states.columns = all_states.columns.str.replace('  ', '_')\n",
    "#all_states.columns = all_states.columns.str.replace('/', '_')\n",
    "#all_states.head()"
   ]
  },
  {
   "cell_type": "code",
   "execution_count": 6,
   "metadata": {},
   "outputs": [],
   "source": [
    "#all_states.info()"
   ]
  },
  {
   "cell_type": "code",
   "execution_count": 7,
   "metadata": {},
   "outputs": [],
   "source": [
    "#convert columnc type to integer\n",
    "#all_states = all_states.astype({\"positive\": float, \"negative\": float})"
   ]
  },
  {
   "cell_type": "markdown",
   "metadata": {},
   "source": [
    "change the format of date column"
   ]
  },
  {
   "cell_type": "code",
   "execution_count": 8,
   "metadata": {},
   "outputs": [],
   "source": [
    "#all_states['date'] = pd.to_datetime(all_states['date'], format='%Y%m%d', errors='ignore')"
   ]
  },
  {
   "cell_type": "markdown",
   "metadata": {},
   "source": [
    "Add calculated column to the data frame"
   ]
  },
  {
   "cell_type": "code",
   "execution_count": 9,
   "metadata": {},
   "outputs": [],
   "source": [
    "#all_states['total_testing']= all_states['positive']+all_states['negative']"
   ]
  },
  {
   "cell_type": "code",
   "execution_count": 10,
   "metadata": {},
   "outputs": [],
   "source": [
    "#all_states.head()"
   ]
  },
  {
   "cell_type": "markdown",
   "metadata": {},
   "source": [
    "Replace abbreviation in state column with full state name"
   ]
  },
  {
   "cell_type": "code",
   "execution_count": 11,
   "metadata": {},
   "outputs": [],
   "source": [
    "#create dictionay contains each state's name as the value and the obbreviation as the key\n",
    "us_state_full_name = {\n",
    "                    'AL': 'Alabama',\n",
    "                    'AK': 'Alaska',\n",
    "                    'AS': 'American Samoa',\n",
    "                    'AZ': 'Arizona',\n",
    "                    'AR': 'Arkansas',\n",
    "                    'CA': 'California',\n",
    "                    'CO': 'Colorado',\n",
    "                    'CT': 'Connecticut',\n",
    "                    'DE': 'Delaware',\n",
    "                    'DC': 'District of Columbia',\n",
    "                    'FL': 'Florida',\n",
    "                    'GA': 'Georgia',\n",
    "                    'GU': 'Guam',\n",
    "                    'HI': 'Hawaii',\n",
    "                    'ID': 'Idaho',\n",
    "                    'IL': 'Illinois',\n",
    "                    'IN': 'Indiana',\n",
    "                    'IA': 'Iowa',\n",
    "                    'KS': 'Kansas',\n",
    "                    'KY': 'Kentucky',\n",
    "                    'LA': 'Louisiana',\n",
    "                    'ME': 'Maine',\n",
    "                    'MD': 'Maryland',\n",
    "                    'MA': 'Massachusetts',\n",
    "                    'MI': 'Michigan',\n",
    "                    'MN': 'Minnesota',\n",
    "                    'MP': 'Northern Mariana Islands',\n",
    "                    'MS': 'Mississippi',\n",
    "                    'MO': 'Missouri',\n",
    "                    'MT': 'Montana',\n",
    "                    'NE': 'Nebraska',\n",
    "                    'NV': 'Nevada',\n",
    "                    'NH': 'New Hampshire',\n",
    "                    'NJ': 'New Jersey',\n",
    "                    'NM': 'New Mexico',\n",
    "                    'NY': 'New York',\n",
    "                    'NC': 'North Carolina',\n",
    "                    'ND': 'North Dakota',\n",
    "                  # 'NM': 'Northern Marianas', #commented out because the key matches the one for new mexico\n",
    "                    'OH': 'Ohio',\n",
    "                    'OK': 'Oklahoma',\n",
    "                    'OR': 'Oregon',\n",
    "                    'PA': 'Pennsylvania',\n",
    "                    'PR': 'Puerto Rico',\n",
    "                    'RI': 'Rhode Island',\n",
    "                    'SC': 'South Carolina',\n",
    "                    'SD': 'South Dakota',\n",
    "                    'TN': 'Tennessee',\n",
    "                    'TX': 'Texas',\n",
    "                    'UT': 'Utah',\n",
    "                    'VT': 'Vermont',\n",
    "                    'VA': 'Virginia',\n",
    "                    'VI': 'Virgin Islands',\n",
    "                    'WA': 'Washington',\n",
    "                    'WV': 'West Virginia',\n",
    "                    'WI': 'Wisconsin',\n",
    "                    'WY': 'Wyoming',\n",
    "                }"
   ]
  },
  {
   "cell_type": "code",
   "execution_count": 12,
   "metadata": {},
   "outputs": [
    {
     "data": {
      "text/plain": [
       "56"
      ]
     },
     "execution_count": 12,
     "metadata": {},
     "output_type": "execute_result"
    }
   ],
   "source": [
    "len(us_state_full_name)"
   ]
  },
  {
   "cell_type": "code",
   "execution_count": 13,
   "metadata": {},
   "outputs": [],
   "source": [
    "#replace the obbreviation with full name\n",
    "#states_names = all_states.replace({\"state\": us_state_full_name}) "
   ]
  },
  {
   "cell_type": "markdown",
   "metadata": {},
   "source": [
    "Select the intersting columns"
   ]
  },
  {
   "cell_type": "code",
   "execution_count": 14,
   "metadata": {},
   "outputs": [
    {
     "data": {
      "text/plain": [
       "\"all_states_clean = states_names[['date',\\n                              'state',\\n                              'positive',\\n                              'negative',\\n                              'total_testing',\\n                              'deaths',\\n                              'recovered', ]]\""
      ]
     },
     "execution_count": 14,
     "metadata": {},
     "output_type": "execute_result"
    }
   ],
   "source": [
    "'''all_states_clean = states_names[['date',\n",
    "                              'state',\n",
    "                              'positive',\n",
    "                              'negative',\n",
    "                              'total_testing',\n",
    "                              'deaths',\n",
    "                              'recovered', ]]'''"
   ]
  },
  {
   "cell_type": "code",
   "execution_count": 15,
   "metadata": {},
   "outputs": [],
   "source": [
    "#all_states_clean.head()"
   ]
  },
  {
   "cell_type": "code",
   "execution_count": 16,
   "metadata": {},
   "outputs": [],
   "source": [
    "#print(all_states_clean.shape)"
   ]
  },
  {
   "cell_type": "code",
   "execution_count": 17,
   "metadata": {},
   "outputs": [],
   "source": [
    "#all_states_clean['state'].value_counts()"
   ]
  },
  {
   "cell_type": "markdown",
   "metadata": {},
   "source": [
    "# Read in another csv file for more COVID-19 "
   ]
  },
  {
   "cell_type": "code",
   "execution_count": 18,
   "metadata": {},
   "outputs": [],
   "source": [
    "df2_all_states=pd.read_csv('../data/covid_19_update_allStates_2.csv')"
   ]
  },
  {
   "cell_type": "code",
   "execution_count": 19,
   "metadata": {},
   "outputs": [
    {
     "data": {
      "text/html": [
       "<div>\n",
       "<style scoped>\n",
       "    .dataframe tbody tr th:only-of-type {\n",
       "        vertical-align: middle;\n",
       "    }\n",
       "\n",
       "    .dataframe tbody tr th {\n",
       "        vertical-align: top;\n",
       "    }\n",
       "\n",
       "    .dataframe thead th {\n",
       "        text-align: right;\n",
       "    }\n",
       "</style>\n",
       "<table border=\"1\" class=\"dataframe\">\n",
       "  <thead>\n",
       "    <tr style=\"text-align: right;\">\n",
       "      <th></th>\n",
       "      <th>date</th>\n",
       "      <th>state</th>\n",
       "      <th>positive</th>\n",
       "      <th>negative</th>\n",
       "      <th>pending</th>\n",
       "      <th>hospitalizedCurrently</th>\n",
       "      <th>hospitalizedCumulative</th>\n",
       "      <th>inIcuCurrently</th>\n",
       "      <th>inIcuCumulative</th>\n",
       "      <th>onVentilatorCurrently</th>\n",
       "      <th>...</th>\n",
       "      <th>posNeg</th>\n",
       "      <th>deathIncrease</th>\n",
       "      <th>hospitalizedIncrease</th>\n",
       "      <th>hash</th>\n",
       "      <th>commercialScore</th>\n",
       "      <th>negativeRegularScore</th>\n",
       "      <th>negativeScore</th>\n",
       "      <th>positiveScore</th>\n",
       "      <th>score</th>\n",
       "      <th>grade</th>\n",
       "    </tr>\n",
       "  </thead>\n",
       "  <tbody>\n",
       "    <tr>\n",
       "      <td>0</td>\n",
       "      <td>20200612</td>\n",
       "      <td>AK</td>\n",
       "      <td>625.0</td>\n",
       "      <td>70255.0</td>\n",
       "      <td>NaN</td>\n",
       "      <td>15.0</td>\n",
       "      <td>NaN</td>\n",
       "      <td>NaN</td>\n",
       "      <td>NaN</td>\n",
       "      <td>3.0</td>\n",
       "      <td>...</td>\n",
       "      <td>70880</td>\n",
       "      <td>1</td>\n",
       "      <td>0</td>\n",
       "      <td>5f1a4d5e430995ef9030e190ec73783f54ae0d34</td>\n",
       "      <td>0</td>\n",
       "      <td>0</td>\n",
       "      <td>0</td>\n",
       "      <td>0</td>\n",
       "      <td>0</td>\n",
       "      <td>NaN</td>\n",
       "    </tr>\n",
       "    <tr>\n",
       "      <td>1</td>\n",
       "      <td>20200612</td>\n",
       "      <td>AL</td>\n",
       "      <td>23710.0</td>\n",
       "      <td>262675.0</td>\n",
       "      <td>NaN</td>\n",
       "      <td>622.0</td>\n",
       "      <td>2202.0</td>\n",
       "      <td>NaN</td>\n",
       "      <td>658.0</td>\n",
       "      <td>NaN</td>\n",
       "      <td>...</td>\n",
       "      <td>286385</td>\n",
       "      <td>14</td>\n",
       "      <td>37</td>\n",
       "      <td>dcbcb0ffeb87d85d6579b48479e7c00de3059a96</td>\n",
       "      <td>0</td>\n",
       "      <td>0</td>\n",
       "      <td>0</td>\n",
       "      <td>0</td>\n",
       "      <td>0</td>\n",
       "      <td>NaN</td>\n",
       "    </tr>\n",
       "    <tr>\n",
       "      <td>2</td>\n",
       "      <td>20200612</td>\n",
       "      <td>AR</td>\n",
       "      <td>11547.0</td>\n",
       "      <td>169575.0</td>\n",
       "      <td>NaN</td>\n",
       "      <td>203.0</td>\n",
       "      <td>961.0</td>\n",
       "      <td>NaN</td>\n",
       "      <td>NaN</td>\n",
       "      <td>49.0</td>\n",
       "      <td>...</td>\n",
       "      <td>181122</td>\n",
       "      <td>5</td>\n",
       "      <td>36</td>\n",
       "      <td>4bee2db901732ed74238ccbf11e271ba60bcc9fe</td>\n",
       "      <td>0</td>\n",
       "      <td>0</td>\n",
       "      <td>0</td>\n",
       "      <td>0</td>\n",
       "      <td>0</td>\n",
       "      <td>NaN</td>\n",
       "    </tr>\n",
       "    <tr>\n",
       "      <td>3</td>\n",
       "      <td>20200612</td>\n",
       "      <td>AS</td>\n",
       "      <td>0.0</td>\n",
       "      <td>174.0</td>\n",
       "      <td>NaN</td>\n",
       "      <td>NaN</td>\n",
       "      <td>NaN</td>\n",
       "      <td>NaN</td>\n",
       "      <td>NaN</td>\n",
       "      <td>NaN</td>\n",
       "      <td>...</td>\n",
       "      <td>174</td>\n",
       "      <td>0</td>\n",
       "      <td>0</td>\n",
       "      <td>ba79cae0ba7e6ce817ec720ab5b17bca838471c3</td>\n",
       "      <td>0</td>\n",
       "      <td>0</td>\n",
       "      <td>0</td>\n",
       "      <td>0</td>\n",
       "      <td>0</td>\n",
       "      <td>NaN</td>\n",
       "    </tr>\n",
       "    <tr>\n",
       "      <td>4</td>\n",
       "      <td>20200612</td>\n",
       "      <td>AZ</td>\n",
       "      <td>32918.0</td>\n",
       "      <td>278318.0</td>\n",
       "      <td>NaN</td>\n",
       "      <td>1336.0</td>\n",
       "      <td>3622.0</td>\n",
       "      <td>429.0</td>\n",
       "      <td>NaN</td>\n",
       "      <td>278.0</td>\n",
       "      <td>...</td>\n",
       "      <td>311236</td>\n",
       "      <td>17</td>\n",
       "      <td>91</td>\n",
       "      <td>7e588d0ceb11906740fae70a21bf967f3b6bed91</td>\n",
       "      <td>0</td>\n",
       "      <td>0</td>\n",
       "      <td>0</td>\n",
       "      <td>0</td>\n",
       "      <td>0</td>\n",
       "      <td>NaN</td>\n",
       "    </tr>\n",
       "  </tbody>\n",
       "</table>\n",
       "<p>5 rows × 39 columns</p>\n",
       "</div>"
      ],
      "text/plain": [
       "       date state  positive  negative  pending  hospitalizedCurrently  \\\n",
       "0  20200612    AK     625.0   70255.0      NaN                   15.0   \n",
       "1  20200612    AL   23710.0  262675.0      NaN                  622.0   \n",
       "2  20200612    AR   11547.0  169575.0      NaN                  203.0   \n",
       "3  20200612    AS       0.0     174.0      NaN                    NaN   \n",
       "4  20200612    AZ   32918.0  278318.0      NaN                 1336.0   \n",
       "\n",
       "   hospitalizedCumulative  inIcuCurrently  inIcuCumulative  \\\n",
       "0                     NaN             NaN              NaN   \n",
       "1                  2202.0             NaN            658.0   \n",
       "2                   961.0             NaN              NaN   \n",
       "3                     NaN             NaN              NaN   \n",
       "4                  3622.0           429.0              NaN   \n",
       "\n",
       "   onVentilatorCurrently  ...  posNeg  deathIncrease hospitalizedIncrease  \\\n",
       "0                    3.0  ...   70880              1                    0   \n",
       "1                    NaN  ...  286385             14                   37   \n",
       "2                   49.0  ...  181122              5                   36   \n",
       "3                    NaN  ...     174              0                    0   \n",
       "4                  278.0  ...  311236             17                   91   \n",
       "\n",
       "                                       hash commercialScore  \\\n",
       "0  5f1a4d5e430995ef9030e190ec73783f54ae0d34               0   \n",
       "1  dcbcb0ffeb87d85d6579b48479e7c00de3059a96               0   \n",
       "2  4bee2db901732ed74238ccbf11e271ba60bcc9fe               0   \n",
       "3  ba79cae0ba7e6ce817ec720ab5b17bca838471c3               0   \n",
       "4  7e588d0ceb11906740fae70a21bf967f3b6bed91               0   \n",
       "\n",
       "  negativeRegularScore  negativeScore  positiveScore score  grade  \n",
       "0                    0              0              0     0    NaN  \n",
       "1                    0              0              0     0    NaN  \n",
       "2                    0              0              0     0    NaN  \n",
       "3                    0              0              0     0    NaN  \n",
       "4                    0              0              0     0    NaN  \n",
       "\n",
       "[5 rows x 39 columns]"
      ]
     },
     "execution_count": 19,
     "metadata": {},
     "output_type": "execute_result"
    }
   ],
   "source": [
    "df2_all_states.head()"
   ]
  },
  {
   "cell_type": "markdown",
   "metadata": {},
   "source": [
    "look for mismatch in the states names"
   ]
  },
  {
   "cell_type": "code",
   "execution_count": 20,
   "metadata": {},
   "outputs": [
    {
     "data": {
      "text/plain": [
       "array(['AK', 'AL', 'AR', 'AS', 'AZ', 'CA', 'CO', 'CT', 'DC', 'DE', 'FL',\n",
       "       'GA', 'GU', 'HI', 'IA', 'ID', 'IL', 'IN', 'KS', 'KY', 'LA', 'MA',\n",
       "       'MD', 'ME', 'MI', 'MN', 'MO', 'MP', 'MS', 'MT', 'NC', 'ND', 'NE',\n",
       "       'NH', 'NJ', 'NM', 'NV', 'NY', 'OH', 'OK', 'OR', 'PA', 'PR', 'RI',\n",
       "       'SC', 'SD', 'TN', 'TX', 'UT', 'VA', 'VI', 'VT', 'WA', 'WI', 'WV',\n",
       "       'WY'], dtype=object)"
      ]
     },
     "execution_count": 20,
     "metadata": {},
     "output_type": "execute_result"
    }
   ],
   "source": [
    "df2_all_states['state'].unique()"
   ]
  },
  {
   "cell_type": "markdown",
   "metadata": {},
   "source": [
    "Replace abbreviation in state column with full state name use the dictionary created above"
   ]
  },
  {
   "cell_type": "code",
   "execution_count": 21,
   "metadata": {},
   "outputs": [],
   "source": [
    "#replace the obbreviation with full name\n",
    "df2_all_states = df2_all_states.replace({\"state\": us_state_full_name}) "
   ]
  },
  {
   "cell_type": "code",
   "execution_count": 22,
   "metadata": {
    "scrolled": true
   },
   "outputs": [
    {
     "data": {
      "text/html": [
       "<div>\n",
       "<style scoped>\n",
       "    .dataframe tbody tr th:only-of-type {\n",
       "        vertical-align: middle;\n",
       "    }\n",
       "\n",
       "    .dataframe tbody tr th {\n",
       "        vertical-align: top;\n",
       "    }\n",
       "\n",
       "    .dataframe thead th {\n",
       "        text-align: right;\n",
       "    }\n",
       "</style>\n",
       "<table border=\"1\" class=\"dataframe\">\n",
       "  <thead>\n",
       "    <tr style=\"text-align: right;\">\n",
       "      <th></th>\n",
       "      <th>date</th>\n",
       "      <th>state</th>\n",
       "      <th>positive</th>\n",
       "      <th>negative</th>\n",
       "      <th>pending</th>\n",
       "      <th>hospitalizedCurrently</th>\n",
       "      <th>hospitalizedCumulative</th>\n",
       "      <th>inIcuCurrently</th>\n",
       "      <th>inIcuCumulative</th>\n",
       "      <th>onVentilatorCurrently</th>\n",
       "      <th>...</th>\n",
       "      <th>posNeg</th>\n",
       "      <th>deathIncrease</th>\n",
       "      <th>hospitalizedIncrease</th>\n",
       "      <th>hash</th>\n",
       "      <th>commercialScore</th>\n",
       "      <th>negativeRegularScore</th>\n",
       "      <th>negativeScore</th>\n",
       "      <th>positiveScore</th>\n",
       "      <th>score</th>\n",
       "      <th>grade</th>\n",
       "    </tr>\n",
       "  </thead>\n",
       "  <tbody>\n",
       "    <tr>\n",
       "      <td>0</td>\n",
       "      <td>20200612</td>\n",
       "      <td>Alaska</td>\n",
       "      <td>625.0</td>\n",
       "      <td>70255.0</td>\n",
       "      <td>NaN</td>\n",
       "      <td>15.0</td>\n",
       "      <td>NaN</td>\n",
       "      <td>NaN</td>\n",
       "      <td>NaN</td>\n",
       "      <td>3.0</td>\n",
       "      <td>...</td>\n",
       "      <td>70880</td>\n",
       "      <td>1</td>\n",
       "      <td>0</td>\n",
       "      <td>5f1a4d5e430995ef9030e190ec73783f54ae0d34</td>\n",
       "      <td>0</td>\n",
       "      <td>0</td>\n",
       "      <td>0</td>\n",
       "      <td>0</td>\n",
       "      <td>0</td>\n",
       "      <td>NaN</td>\n",
       "    </tr>\n",
       "    <tr>\n",
       "      <td>1</td>\n",
       "      <td>20200612</td>\n",
       "      <td>Alabama</td>\n",
       "      <td>23710.0</td>\n",
       "      <td>262675.0</td>\n",
       "      <td>NaN</td>\n",
       "      <td>622.0</td>\n",
       "      <td>2202.0</td>\n",
       "      <td>NaN</td>\n",
       "      <td>658.0</td>\n",
       "      <td>NaN</td>\n",
       "      <td>...</td>\n",
       "      <td>286385</td>\n",
       "      <td>14</td>\n",
       "      <td>37</td>\n",
       "      <td>dcbcb0ffeb87d85d6579b48479e7c00de3059a96</td>\n",
       "      <td>0</td>\n",
       "      <td>0</td>\n",
       "      <td>0</td>\n",
       "      <td>0</td>\n",
       "      <td>0</td>\n",
       "      <td>NaN</td>\n",
       "    </tr>\n",
       "    <tr>\n",
       "      <td>2</td>\n",
       "      <td>20200612</td>\n",
       "      <td>Arkansas</td>\n",
       "      <td>11547.0</td>\n",
       "      <td>169575.0</td>\n",
       "      <td>NaN</td>\n",
       "      <td>203.0</td>\n",
       "      <td>961.0</td>\n",
       "      <td>NaN</td>\n",
       "      <td>NaN</td>\n",
       "      <td>49.0</td>\n",
       "      <td>...</td>\n",
       "      <td>181122</td>\n",
       "      <td>5</td>\n",
       "      <td>36</td>\n",
       "      <td>4bee2db901732ed74238ccbf11e271ba60bcc9fe</td>\n",
       "      <td>0</td>\n",
       "      <td>0</td>\n",
       "      <td>0</td>\n",
       "      <td>0</td>\n",
       "      <td>0</td>\n",
       "      <td>NaN</td>\n",
       "    </tr>\n",
       "    <tr>\n",
       "      <td>3</td>\n",
       "      <td>20200612</td>\n",
       "      <td>American Samoa</td>\n",
       "      <td>0.0</td>\n",
       "      <td>174.0</td>\n",
       "      <td>NaN</td>\n",
       "      <td>NaN</td>\n",
       "      <td>NaN</td>\n",
       "      <td>NaN</td>\n",
       "      <td>NaN</td>\n",
       "      <td>NaN</td>\n",
       "      <td>...</td>\n",
       "      <td>174</td>\n",
       "      <td>0</td>\n",
       "      <td>0</td>\n",
       "      <td>ba79cae0ba7e6ce817ec720ab5b17bca838471c3</td>\n",
       "      <td>0</td>\n",
       "      <td>0</td>\n",
       "      <td>0</td>\n",
       "      <td>0</td>\n",
       "      <td>0</td>\n",
       "      <td>NaN</td>\n",
       "    </tr>\n",
       "    <tr>\n",
       "      <td>4</td>\n",
       "      <td>20200612</td>\n",
       "      <td>Arizona</td>\n",
       "      <td>32918.0</td>\n",
       "      <td>278318.0</td>\n",
       "      <td>NaN</td>\n",
       "      <td>1336.0</td>\n",
       "      <td>3622.0</td>\n",
       "      <td>429.0</td>\n",
       "      <td>NaN</td>\n",
       "      <td>278.0</td>\n",
       "      <td>...</td>\n",
       "      <td>311236</td>\n",
       "      <td>17</td>\n",
       "      <td>91</td>\n",
       "      <td>7e588d0ceb11906740fae70a21bf967f3b6bed91</td>\n",
       "      <td>0</td>\n",
       "      <td>0</td>\n",
       "      <td>0</td>\n",
       "      <td>0</td>\n",
       "      <td>0</td>\n",
       "      <td>NaN</td>\n",
       "    </tr>\n",
       "  </tbody>\n",
       "</table>\n",
       "<p>5 rows × 39 columns</p>\n",
       "</div>"
      ],
      "text/plain": [
       "       date           state  positive  negative  pending  \\\n",
       "0  20200612          Alaska     625.0   70255.0      NaN   \n",
       "1  20200612         Alabama   23710.0  262675.0      NaN   \n",
       "2  20200612        Arkansas   11547.0  169575.0      NaN   \n",
       "3  20200612  American Samoa       0.0     174.0      NaN   \n",
       "4  20200612         Arizona   32918.0  278318.0      NaN   \n",
       "\n",
       "   hospitalizedCurrently  hospitalizedCumulative  inIcuCurrently  \\\n",
       "0                   15.0                     NaN             NaN   \n",
       "1                  622.0                  2202.0             NaN   \n",
       "2                  203.0                   961.0             NaN   \n",
       "3                    NaN                     NaN             NaN   \n",
       "4                 1336.0                  3622.0           429.0   \n",
       "\n",
       "   inIcuCumulative  onVentilatorCurrently  ...  posNeg  deathIncrease  \\\n",
       "0              NaN                    3.0  ...   70880              1   \n",
       "1            658.0                    NaN  ...  286385             14   \n",
       "2              NaN                   49.0  ...  181122              5   \n",
       "3              NaN                    NaN  ...     174              0   \n",
       "4              NaN                  278.0  ...  311236             17   \n",
       "\n",
       "  hospitalizedIncrease                                      hash  \\\n",
       "0                    0  5f1a4d5e430995ef9030e190ec73783f54ae0d34   \n",
       "1                   37  dcbcb0ffeb87d85d6579b48479e7c00de3059a96   \n",
       "2                   36  4bee2db901732ed74238ccbf11e271ba60bcc9fe   \n",
       "3                    0  ba79cae0ba7e6ce817ec720ab5b17bca838471c3   \n",
       "4                   91  7e588d0ceb11906740fae70a21bf967f3b6bed91   \n",
       "\n",
       "  commercialScore negativeRegularScore  negativeScore  positiveScore score  \\\n",
       "0               0                    0              0              0     0   \n",
       "1               0                    0              0              0     0   \n",
       "2               0                    0              0              0     0   \n",
       "3               0                    0              0              0     0   \n",
       "4               0                    0              0              0     0   \n",
       "\n",
       "   grade  \n",
       "0    NaN  \n",
       "1    NaN  \n",
       "2    NaN  \n",
       "3    NaN  \n",
       "4    NaN  \n",
       "\n",
       "[5 rows x 39 columns]"
      ]
     },
     "execution_count": 22,
     "metadata": {},
     "output_type": "execute_result"
    }
   ],
   "source": [
    "df2_all_states.head()"
   ]
  },
  {
   "cell_type": "markdown",
   "metadata": {},
   "source": [
    "check to see if names are updated"
   ]
  },
  {
   "cell_type": "code",
   "execution_count": 23,
   "metadata": {},
   "outputs": [
    {
     "data": {
      "text/plain": [
       "array(['Alaska', 'Alabama', 'Arkansas', 'American Samoa', 'Arizona',\n",
       "       'California', 'Colorado', 'Connecticut', 'District of Columbia',\n",
       "       'Delaware', 'Florida', 'Georgia', 'Guam', 'Hawaii', 'Iowa',\n",
       "       'Idaho', 'Illinois', 'Indiana', 'Kansas', 'Kentucky', 'Louisiana',\n",
       "       'Massachusetts', 'Maryland', 'Maine', 'Michigan', 'Minnesota',\n",
       "       'Missouri', 'Northern Mariana Islands', 'Mississippi', 'Montana',\n",
       "       'North Carolina', 'North Dakota', 'Nebraska', 'New Hampshire',\n",
       "       'New Jersey', 'New Mexico', 'Nevada', 'New York', 'Ohio',\n",
       "       'Oklahoma', 'Oregon', 'Pennsylvania', 'Puerto Rico',\n",
       "       'Rhode Island', 'South Carolina', 'South Dakota', 'Tennessee',\n",
       "       'Texas', 'Utah', 'Virginia', 'Virgin Islands', 'Vermont',\n",
       "       'Washington', 'Wisconsin', 'West Virginia', 'Wyoming'],\n",
       "      dtype=object)"
      ]
     },
     "execution_count": 23,
     "metadata": {},
     "output_type": "execute_result"
    }
   ],
   "source": [
    "df2_all_states['state'].unique()"
   ]
  },
  {
   "cell_type": "markdown",
   "metadata": {},
   "source": [
    "Fill Nan value in the dataframe with 0 so it will be accepted to convert data type to integer"
   ]
  },
  {
   "cell_type": "code",
   "execution_count": 24,
   "metadata": {},
   "outputs": [],
   "source": [
    "df2_all_states = df2_all_states.fillna(0)"
   ]
  },
  {
   "cell_type": "code",
   "execution_count": 25,
   "metadata": {},
   "outputs": [],
   "source": [
    "#change the format of columns to use the values in calculating if needed\n",
    "\n",
    "df2_all_states= df2_all_states.astype({         \"positive\": int,\n",
    "                                                \"negative\": int,\n",
    "                                                   'fips' : int,\n",
    "                                               'positive' : int,\n",
    "                                       'positiveIncrease' : int,\n",
    "                                               'negative' : int,\n",
    "                                       'negativeIncrease' : int,\n",
    "                                       'totalTestResults' : int,\n",
    "                               'totalTestResultsIncrease' : int,\n",
    "                                  'hospitalizedCurrently' : int,\n",
    "                                   'hospitalizedIncrease' : int,\n",
    "                                                  'death' : int,\n",
    "                                          'deathIncrease' : int,\n",
    "                                             'recovered' : int,\n",
    "                                                'total' : int\n",
    "                                           })        #convert columns data type to int"
   ]
  },
  {
   "cell_type": "code",
   "execution_count": 26,
   "metadata": {},
   "outputs": [],
   "source": [
    "#change the format of date column\n",
    "df2_all_states['date'] = pd.to_datetime(df2_all_states['date'], format='%Y%m%d', errors='ignore')"
   ]
  },
  {
   "cell_type": "code",
   "execution_count": 27,
   "metadata": {},
   "outputs": [],
   "source": [
    "#df2_all_states['state'].value_counts()"
   ]
  },
  {
   "cell_type": "code",
   "execution_count": 28,
   "metadata": {},
   "outputs": [
    {
     "data": {
      "text/plain": [
       "Index(['date', 'state', 'positive', 'negative', 'pending',\n",
       "       'hospitalizedCurrently', 'hospitalizedCumulative', 'inIcuCurrently',\n",
       "       'inIcuCumulative', 'onVentilatorCurrently', 'onVentilatorCumulative',\n",
       "       'recovered', 'dataQualityGrade', 'lastUpdateEt', 'dateModified',\n",
       "       'checkTimeEt', 'death', 'hospitalized', 'dateChecked',\n",
       "       'totalTestsViral', 'positiveTestsViral', 'negativeTestsViral',\n",
       "       'positiveCasesViral', 'fips', 'positiveIncrease', 'negativeIncrease',\n",
       "       'total', 'totalTestResults', 'totalTestResultsIncrease', 'posNeg',\n",
       "       'deathIncrease', 'hospitalizedIncrease', 'hash', 'commercialScore',\n",
       "       'negativeRegularScore', 'negativeScore', 'positiveScore', 'score',\n",
       "       'grade'],\n",
       "      dtype='object')"
      ]
     },
     "execution_count": 28,
     "metadata": {},
     "output_type": "execute_result"
    }
   ],
   "source": [
    "df2_all_states.columns"
   ]
  },
  {
   "cell_type": "code",
   "execution_count": 29,
   "metadata": {},
   "outputs": [],
   "source": [
    "#subset the datframe, Select only ithe intersting columns\n",
    "df2_all_states_clean = df2_all_states[['state',\n",
    "                                      'date',\n",
    "                                       'fips',\n",
    "                                   'positive',\n",
    "                           'positiveIncrease',\n",
    "                                   'negative',\n",
    "                           'negativeIncrease',\n",
    "                           'totalTestResults',\n",
    "                   'totalTestResultsIncrease',\n",
    "                      'hospitalizedCurrently',\n",
    "                       'hospitalizedIncrease',\n",
    "                                      'death',\n",
    "                              'deathIncrease',\n",
    "                                 'recovered',\n",
    "                                    'total'\n",
    "                                      ]]"
   ]
  },
  {
   "cell_type": "code",
   "execution_count": 30,
   "metadata": {},
   "outputs": [
    {
     "data": {
      "text/html": [
       "<div>\n",
       "<style scoped>\n",
       "    .dataframe tbody tr th:only-of-type {\n",
       "        vertical-align: middle;\n",
       "    }\n",
       "\n",
       "    .dataframe tbody tr th {\n",
       "        vertical-align: top;\n",
       "    }\n",
       "\n",
       "    .dataframe thead th {\n",
       "        text-align: right;\n",
       "    }\n",
       "</style>\n",
       "<table border=\"1\" class=\"dataframe\">\n",
       "  <thead>\n",
       "    <tr style=\"text-align: right;\">\n",
       "      <th></th>\n",
       "      <th>state</th>\n",
       "      <th>date</th>\n",
       "      <th>fips</th>\n",
       "      <th>positive</th>\n",
       "      <th>positiveIncrease</th>\n",
       "      <th>negative</th>\n",
       "      <th>negativeIncrease</th>\n",
       "      <th>totalTestResults</th>\n",
       "      <th>totalTestResultsIncrease</th>\n",
       "      <th>hospitalizedCurrently</th>\n",
       "      <th>hospitalizedIncrease</th>\n",
       "      <th>death</th>\n",
       "      <th>deathIncrease</th>\n",
       "      <th>recovered</th>\n",
       "      <th>total</th>\n",
       "    </tr>\n",
       "  </thead>\n",
       "  <tbody>\n",
       "    <tr>\n",
       "      <td>0</td>\n",
       "      <td>Alaska</td>\n",
       "      <td>2020-06-12</td>\n",
       "      <td>2</td>\n",
       "      <td>625</td>\n",
       "      <td>14</td>\n",
       "      <td>70255</td>\n",
       "      <td>1855</td>\n",
       "      <td>70880</td>\n",
       "      <td>1869</td>\n",
       "      <td>15</td>\n",
       "      <td>0</td>\n",
       "      <td>12</td>\n",
       "      <td>1</td>\n",
       "      <td>403</td>\n",
       "      <td>70880</td>\n",
       "    </tr>\n",
       "    <tr>\n",
       "      <td>1</td>\n",
       "      <td>Alabama</td>\n",
       "      <td>2020-06-12</td>\n",
       "      <td>1</td>\n",
       "      <td>23710</td>\n",
       "      <td>865</td>\n",
       "      <td>262675</td>\n",
       "      <td>6694</td>\n",
       "      <td>286385</td>\n",
       "      <td>7559</td>\n",
       "      <td>622</td>\n",
       "      <td>37</td>\n",
       "      <td>769</td>\n",
       "      <td>14</td>\n",
       "      <td>13508</td>\n",
       "      <td>286385</td>\n",
       "    </tr>\n",
       "    <tr>\n",
       "      <td>2</td>\n",
       "      <td>Arkansas</td>\n",
       "      <td>2020-06-12</td>\n",
       "      <td>5</td>\n",
       "      <td>11547</td>\n",
       "      <td>731</td>\n",
       "      <td>169575</td>\n",
       "      <td>3726</td>\n",
       "      <td>181122</td>\n",
       "      <td>4457</td>\n",
       "      <td>203</td>\n",
       "      <td>36</td>\n",
       "      <td>176</td>\n",
       "      <td>5</td>\n",
       "      <td>7607</td>\n",
       "      <td>181122</td>\n",
       "    </tr>\n",
       "    <tr>\n",
       "      <td>3</td>\n",
       "      <td>American Samoa</td>\n",
       "      <td>2020-06-12</td>\n",
       "      <td>60</td>\n",
       "      <td>0</td>\n",
       "      <td>0</td>\n",
       "      <td>174</td>\n",
       "      <td>0</td>\n",
       "      <td>174</td>\n",
       "      <td>0</td>\n",
       "      <td>0</td>\n",
       "      <td>0</td>\n",
       "      <td>0</td>\n",
       "      <td>0</td>\n",
       "      <td>0</td>\n",
       "      <td>174</td>\n",
       "    </tr>\n",
       "    <tr>\n",
       "      <td>4</td>\n",
       "      <td>Arizona</td>\n",
       "      <td>2020-06-12</td>\n",
       "      <td>4</td>\n",
       "      <td>32918</td>\n",
       "      <td>1654</td>\n",
       "      <td>278318</td>\n",
       "      <td>0</td>\n",
       "      <td>311236</td>\n",
       "      <td>1654</td>\n",
       "      <td>1336</td>\n",
       "      <td>91</td>\n",
       "      <td>1144</td>\n",
       "      <td>17</td>\n",
       "      <td>5980</td>\n",
       "      <td>311236</td>\n",
       "    </tr>\n",
       "  </tbody>\n",
       "</table>\n",
       "</div>"
      ],
      "text/plain": [
       "            state       date  fips  positive  positiveIncrease  negative  \\\n",
       "0          Alaska 2020-06-12     2       625                14     70255   \n",
       "1         Alabama 2020-06-12     1     23710               865    262675   \n",
       "2        Arkansas 2020-06-12     5     11547               731    169575   \n",
       "3  American Samoa 2020-06-12    60         0                 0       174   \n",
       "4         Arizona 2020-06-12     4     32918              1654    278318   \n",
       "\n",
       "   negativeIncrease  totalTestResults  totalTestResultsIncrease  \\\n",
       "0              1855             70880                      1869   \n",
       "1              6694            286385                      7559   \n",
       "2              3726            181122                      4457   \n",
       "3                 0               174                         0   \n",
       "4                 0            311236                      1654   \n",
       "\n",
       "   hospitalizedCurrently  hospitalizedIncrease  death  deathIncrease  \\\n",
       "0                     15                     0     12              1   \n",
       "1                    622                    37    769             14   \n",
       "2                    203                    36    176              5   \n",
       "3                      0                     0      0              0   \n",
       "4                   1336                    91   1144             17   \n",
       "\n",
       "   recovered   total  \n",
       "0        403   70880  \n",
       "1      13508  286385  \n",
       "2       7607  181122  \n",
       "3          0     174  \n",
       "4       5980  311236  "
      ]
     },
     "execution_count": 30,
     "metadata": {},
     "output_type": "execute_result"
    }
   ],
   "source": [
    "df2_all_states_clean.head()\n"
   ]
  },
  {
   "cell_type": "code",
   "execution_count": 31,
   "metadata": {},
   "outputs": [
    {
     "name": "stdout",
     "output_type": "stream",
     "text": [
      "(5561, 15)\n"
     ]
    }
   ],
   "source": [
    "print(df2_all_states_clean.shape)"
   ]
  },
  {
   "cell_type": "code",
   "execution_count": 32,
   "metadata": {},
   "outputs": [
    {
     "data": {
      "text/plain": [
       "array(['Alaska', 'Alabama', 'Arkansas', 'American Samoa', 'Arizona',\n",
       "       'California', 'Colorado', 'Connecticut', 'District of Columbia',\n",
       "       'Delaware', 'Florida', 'Georgia', 'Guam', 'Hawaii', 'Iowa',\n",
       "       'Idaho', 'Illinois', 'Indiana', 'Kansas', 'Kentucky', 'Louisiana',\n",
       "       'Massachusetts', 'Maryland', 'Maine', 'Michigan', 'Minnesota',\n",
       "       'Missouri', 'Northern Mariana Islands', 'Mississippi', 'Montana',\n",
       "       'North Carolina', 'North Dakota', 'Nebraska', 'New Hampshire',\n",
       "       'New Jersey', 'New Mexico', 'Nevada', 'New York', 'Ohio',\n",
       "       'Oklahoma', 'Oregon', 'Pennsylvania', 'Puerto Rico',\n",
       "       'Rhode Island', 'South Carolina', 'South Dakota', 'Tennessee',\n",
       "       'Texas', 'Utah', 'Virginia', 'Virgin Islands', 'Vermont',\n",
       "       'Washington', 'Wisconsin', 'West Virginia', 'Wyoming'],\n",
       "      dtype=object)"
      ]
     },
     "execution_count": 32,
     "metadata": {},
     "output_type": "execute_result"
    }
   ],
   "source": [
    "df2_all_states_clean['state'].unique()"
   ]
  },
  {
   "cell_type": "markdown",
   "metadata": {},
   "source": [
    "Save it as csv file name using the same name  "
   ]
  },
  {
   "cell_type": "code",
   "execution_count": 33,
   "metadata": {},
   "outputs": [],
   "source": [
    "df2_all_states_clean.to_csv('../data/covid_19_daily_update_allStates_2.csv', index= False)"
   ]
  },
  {
   "cell_type": "markdown",
   "metadata": {},
   "source": [
    "Select only Alaska to check numbers"
   ]
  },
  {
   "cell_type": "code",
   "execution_count": 34,
   "metadata": {},
   "outputs": [],
   "source": [
    "#test= df2_all_states_clean.loc[(df2_all_states_clean.state == 'Alaska')]"
   ]
  },
  {
   "cell_type": "code",
   "execution_count": 35,
   "metadata": {},
   "outputs": [],
   "source": [
    "#test.head()"
   ]
  },
  {
   "cell_type": "markdown",
   "metadata": {},
   "source": [
    "# read in states lockdown dates csv file"
   ]
  },
  {
   "cell_type": "raw",
   "metadata": {},
   "source": [
    "since this dataset contains lockdown data only and it is set for once with no change,\n",
    "we will import, clean, and save only for one time. "
   ]
  },
  {
   "cell_type": "code",
   "execution_count": 2,
   "metadata": {},
   "outputs": [],
   "source": [
    "#df3 = pd.read_csv('../data/states_lockdown_dates.csv')"
   ]
  },
  {
   "cell_type": "code",
   "execution_count": 2,
   "metadata": {},
   "outputs": [],
   "source": [
    "#df3.head()"
   ]
  },
  {
   "cell_type": "code",
   "execution_count": 3,
   "metadata": {},
   "outputs": [],
   "source": [
    "#df3.info() "
   ]
  },
  {
   "cell_type": "code",
   "execution_count": 4,
   "metadata": {},
   "outputs": [],
   "source": [
    "#df3.columns"
   ]
  },
  {
   "cell_type": "markdown",
   "metadata": {},
   "source": [
    "clean the data column"
   ]
  },
  {
   "cell_type": "code",
   "execution_count": 5,
   "metadata": {},
   "outputs": [],
   "source": [
    "#df3['date_start'], df3['date_end_2'] = df3['Order dates'].str.split('-', 1).str"
   ]
  },
  {
   "cell_type": "code",
   "execution_count": null,
   "metadata": {},
   "outputs": [],
   "source": [
    "#df3.head()"
   ]
  },
  {
   "cell_type": "code",
   "execution_count": null,
   "metadata": {},
   "outputs": [],
   "source": [
    "#replace the word Apr with April in the date_end column\n",
    "#df3['date_end'] = df3.date_end.str.replace('Apr', 'April') "
   ]
  },
  {
   "cell_type": "code",
   "execution_count": null,
   "metadata": {},
   "outputs": [],
   "source": [
    "#rename the state column\n",
    "#df3_rename = df3.rename(columns = {'State': 'state'})"
   ]
  },
  {
   "cell_type": "code",
   "execution_count": null,
   "metadata": {},
   "outputs": [],
   "source": [
    "#df3_subset= df3_rename [['state', 'date_start', 'date_end']]\n",
    "#df3_subset.head()"
   ]
  },
  {
   "cell_type": "code",
   "execution_count": null,
   "metadata": {},
   "outputs": [],
   "source": [
    "#df3_subset['date_start'] = pd.to_datetime(df3_subset['date_start'], format='%Y%m%d', errors='ignore')\n",
    "#df3_subset['date_end'] = pd.to_datetime(df3_subset['date_end'], format='%Y%m%d', errors='ignore')\n"
   ]
  },
  {
   "cell_type": "code",
   "execution_count": null,
   "metadata": {},
   "outputs": [],
   "source": [
    "#df3_subset.head()"
   ]
  },
  {
   "cell_type": "markdown",
   "metadata": {},
   "source": [
    "Utah has None value diffrent than NaN"
   ]
  },
  {
   "cell_type": "code",
   "execution_count": null,
   "metadata": {},
   "outputs": [],
   "source": [
    "#change the none to NaN\n",
    "#df3_subset['date_start'].replace('None', np.nan, inplace=True)"
   ]
  },
  {
   "cell_type": "code",
   "execution_count": null,
   "metadata": {},
   "outputs": [],
   "source": [
    "#df3_subset.head()"
   ]
  },
  {
   "cell_type": "code",
   "execution_count": null,
   "metadata": {},
   "outputs": [],
   "source": [
    "#df3_subset.info()"
   ]
  },
  {
   "cell_type": "code",
   "execution_count": null,
   "metadata": {},
   "outputs": [],
   "source": [
    "#df3_subset.head()"
   ]
  },
  {
   "cell_type": "code",
   "execution_count": null,
   "metadata": {},
   "outputs": [],
   "source": [
    "#pd.to_datetime(df3_subset['date_start'].astype(str), format='%m%d')"
   ]
  },
  {
   "cell_type": "code",
   "execution_count": null,
   "metadata": {},
   "outputs": [],
   "source": [
    "#df3_subset['date_end'] = pd.to_datetime(df3_subset['date_end'], format='%Y%m%d', errors='ignore')"
   ]
  },
  {
   "cell_type": "code",
   "execution_count": null,
   "metadata": {},
   "outputs": [],
   "source": [
    "#df3_subset.info()"
   ]
  },
  {
   "cell_type": "code",
   "execution_count": null,
   "metadata": {},
   "outputs": [],
   "source": [
    "#save it to join with all other datasets\n",
    "#df3_subset.to_csv('../data/states_lockdown_dates.csv',index=False)"
   ]
  },
  {
   "cell_type": "code",
   "execution_count": null,
   "metadata": {
    "scrolled": true
   },
   "outputs": [],
   "source": [
    "#df3_subset['date_end']= df3_subset.loc[:,'date_end'].str.replace(']', '_')\n",
    "#df3_subset.head()"
   ]
  },
  {
   "cell_type": "code",
   "execution_count": null,
   "metadata": {},
   "outputs": [],
   "source": [
    "#df3['date_end'].str.contains('[.]', regex=True)"
   ]
  },
  {
   "cell_type": "code",
   "execution_count": null,
   "metadata": {},
   "outputs": [],
   "source": [
    "#df3_subset['date_end']= df3_subset['date_end'].str.replace('[', '_')\n",
    "#df3['date_end']= df3['date_end'].str.replace(']', '_')\n",
    "#df3['date_end'].split('(_\\d)','',regex=True, inplace = False)\n",
    "#df3_subset.head()"
   ]
  },
  {
   "cell_type": "code",
   "execution_count": null,
   "metadata": {},
   "outputs": [],
   "source": [
    "#df3_subset['date_end_1'], df3_subset['date_end_2'] = df3_subset['date_end'].str.split('_', 1).str"
   ]
  },
  {
   "cell_type": "code",
   "execution_count": null,
   "metadata": {},
   "outputs": [],
   "source": [
    "#df3_new= df3_subset\n",
    "#df3_new"
   ]
  },
  {
   "cell_type": "code",
   "execution_count": null,
   "metadata": {},
   "outputs": [],
   "source": [
    "#df3_new['date_end_1'] = df3_new['date_end_1'].str.replace(r\"\\s*\\([^()]*\\)\",\"\").str.strip()"
   ]
  },
  {
   "cell_type": "code",
   "execution_count": null,
   "metadata": {},
   "outputs": [],
   "source": [
    "#df3_new= df3_new[[\"state\", \"date_start\", \"date_end_1\"]]\n",
    "#df3_new.head()"
   ]
  },
  {
   "cell_type": "code",
   "execution_count": null,
   "metadata": {},
   "outputs": [],
   "source": []
  }
 ],
 "metadata": {
  "kernelspec": {
   "display_name": "Python 3",
   "language": "python",
   "name": "python3"
  },
  "language_info": {
   "codemirror_mode": {
    "name": "ipython",
    "version": 3
   },
   "file_extension": ".py",
   "mimetype": "text/x-python",
   "name": "python",
   "nbconvert_exporter": "python",
   "pygments_lexer": "ipython3",
   "version": "3.7.4"
  }
 },
 "nbformat": 4,
 "nbformat_minor": 2
}
