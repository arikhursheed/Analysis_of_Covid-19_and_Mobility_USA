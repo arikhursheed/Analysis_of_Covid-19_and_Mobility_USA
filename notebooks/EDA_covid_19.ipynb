{
 "cells": [
  {
   "cell_type": "code",
   "execution_count": 1,
   "metadata": {},
   "outputs": [],
   "source": [
    "import pandas as pd\n",
    "\n",
    "from glob import glob"
   ]
  },
  {
   "cell_type": "code",
   "execution_count": 2,
   "metadata": {},
   "outputs": [
    {
     "data": {
      "text/plain": [
       "[]"
      ]
     },
     "execution_count": 2,
     "metadata": {},
     "output_type": "execute_result"
    }
   ],
   "source": [
    "df= sorted(glob('data/Total Confirmed Cases by Date_*.csv'))\n",
    "df"
   ]
  },
  {
   "cell_type": "code",
   "execution_count": 3,
   "metadata": {},
   "outputs": [
    {
     "ename": "ValueError",
     "evalue": "No objects to concatenate",
     "output_type": "error",
     "traceback": [
      "\u001b[1;31m---------------------------------------------------------------------------\u001b[0m",
      "\u001b[1;31mValueError\u001b[0m                                Traceback (most recent call last)",
      "\u001b[1;32m<ipython-input-3-f6cb1fea1230>\u001b[0m in \u001b[0;36m<module>\u001b[1;34m\u001b[0m\n\u001b[0;32m      1\u001b[0m df=pd.concat((pd.read_csv(file).assign(filename=file)\n\u001b[1;32m----> 2\u001b[1;33m           for file in df), ignore_index= True)\n\u001b[0m",
      "\u001b[1;32m~\\Anaconda3\\lib\\site-packages\\pandas\\core\\reshape\\concat.py\u001b[0m in \u001b[0;36mconcat\u001b[1;34m(objs, axis, join, join_axes, ignore_index, keys, levels, names, verify_integrity, sort, copy)\u001b[0m\n\u001b[0;32m    253\u001b[0m         \u001b[0mverify_integrity\u001b[0m\u001b[1;33m=\u001b[0m\u001b[0mverify_integrity\u001b[0m\u001b[1;33m,\u001b[0m\u001b[1;33m\u001b[0m\u001b[1;33m\u001b[0m\u001b[0m\n\u001b[0;32m    254\u001b[0m         \u001b[0mcopy\u001b[0m\u001b[1;33m=\u001b[0m\u001b[0mcopy\u001b[0m\u001b[1;33m,\u001b[0m\u001b[1;33m\u001b[0m\u001b[1;33m\u001b[0m\u001b[0m\n\u001b[1;32m--> 255\u001b[1;33m         \u001b[0msort\u001b[0m\u001b[1;33m=\u001b[0m\u001b[0msort\u001b[0m\u001b[1;33m,\u001b[0m\u001b[1;33m\u001b[0m\u001b[1;33m\u001b[0m\u001b[0m\n\u001b[0m\u001b[0;32m    256\u001b[0m     )\n\u001b[0;32m    257\u001b[0m \u001b[1;33m\u001b[0m\u001b[0m\n",
      "\u001b[1;32m~\\Anaconda3\\lib\\site-packages\\pandas\\core\\reshape\\concat.py\u001b[0m in \u001b[0;36m__init__\u001b[1;34m(self, objs, axis, join, join_axes, keys, levels, names, ignore_index, verify_integrity, copy, sort)\u001b[0m\n\u001b[0;32m    302\u001b[0m \u001b[1;33m\u001b[0m\u001b[0m\n\u001b[0;32m    303\u001b[0m         \u001b[1;32mif\u001b[0m \u001b[0mlen\u001b[0m\u001b[1;33m(\u001b[0m\u001b[0mobjs\u001b[0m\u001b[1;33m)\u001b[0m \u001b[1;33m==\u001b[0m \u001b[1;36m0\u001b[0m\u001b[1;33m:\u001b[0m\u001b[1;33m\u001b[0m\u001b[1;33m\u001b[0m\u001b[0m\n\u001b[1;32m--> 304\u001b[1;33m             \u001b[1;32mraise\u001b[0m \u001b[0mValueError\u001b[0m\u001b[1;33m(\u001b[0m\u001b[1;34m\"No objects to concatenate\"\u001b[0m\u001b[1;33m)\u001b[0m\u001b[1;33m\u001b[0m\u001b[1;33m\u001b[0m\u001b[0m\n\u001b[0m\u001b[0;32m    305\u001b[0m \u001b[1;33m\u001b[0m\u001b[0m\n\u001b[0;32m    306\u001b[0m         \u001b[1;32mif\u001b[0m \u001b[0mkeys\u001b[0m \u001b[1;32mis\u001b[0m \u001b[1;32mNone\u001b[0m\u001b[1;33m:\u001b[0m\u001b[1;33m\u001b[0m\u001b[1;33m\u001b[0m\u001b[0m\n",
      "\u001b[1;31mValueError\u001b[0m: No objects to concatenate"
     ]
    }
   ],
   "source": [
    "df=pd.concat((pd.read_csv(file).assign(filename=file)\n",
    "          for file in df), ignore_index= True)"
   ]
  },
  {
   "cell_type": "code",
   "execution_count": 4,
   "metadata": {},
   "outputs": [
    {
     "data": {
      "text/html": [
       "<div>\n",
       "<style scoped>\n",
       "    .dataframe tbody tr th:only-of-type {\n",
       "        vertical-align: middle;\n",
       "    }\n",
       "\n",
       "    .dataframe tbody tr th {\n",
       "        vertical-align: top;\n",
       "    }\n",
       "\n",
       "    .dataframe thead th {\n",
       "        text-align: right;\n",
       "    }\n",
       "</style>\n",
       "<table border=\"1\" class=\"dataframe\">\n",
       "  <thead>\n",
       "    <tr style=\"text-align: right;\">\n",
       "      <th></th>\n",
       "      <th>Date</th>\n",
       "      <th>ConfirmedGrowth</th>\n",
       "      <th>Confirmed</th>\n",
       "      <th>Tests</th>\n",
       "      <th>Geography</th>\n",
       "      <th>ID Geography</th>\n",
       "      <th>Population</th>\n",
       "      <th>ConfirmedPC</th>\n",
       "      <th>DeathsPC</th>\n",
       "      <th>TestsPC</th>\n",
       "      <th>HospitalizedPC</th>\n",
       "      <th>ConfirmedGrowthPC</th>\n",
       "      <th>Timestamp</th>\n",
       "      <th>Deaths</th>\n",
       "      <th>Hospitalized</th>\n",
       "      <th>filename</th>\n",
       "    </tr>\n",
       "  </thead>\n",
       "  <tbody>\n",
       "    <tr>\n",
       "      <td>758</td>\n",
       "      <td>5/14</td>\n",
       "      <td>1347.0</td>\n",
       "      <td>45198</td>\n",
       "      <td>645992</td>\n",
       "      <td>Texas</td>\n",
       "      <td>04000US48</td>\n",
       "      <td>28701845</td>\n",
       "      <td>157.474197</td>\n",
       "      <td>4.431771</td>\n",
       "      <td>2250.698518</td>\n",
       "      <td>NaN</td>\n",
       "      <td>4.693078</td>\n",
       "      <td>1589500800000</td>\n",
       "      <td>1272</td>\n",
       "      <td>0</td>\n",
       "      <td>data\\Total Confirmed Cases by Date_florida.csv</td>\n",
       "    </tr>\n",
       "    <tr>\n",
       "      <td>759</td>\n",
       "      <td>5/15</td>\n",
       "      <td>1801.0</td>\n",
       "      <td>46999</td>\n",
       "      <td>678471</td>\n",
       "      <td>Texas</td>\n",
       "      <td>04000US48</td>\n",
       "      <td>28701845</td>\n",
       "      <td>163.749055</td>\n",
       "      <td>4.546746</td>\n",
       "      <td>2363.858491</td>\n",
       "      <td>NaN</td>\n",
       "      <td>6.274858</td>\n",
       "      <td>1589587200000</td>\n",
       "      <td>1305</td>\n",
       "      <td>0</td>\n",
       "      <td>data\\Total Confirmed Cases by Date_florida.csv</td>\n",
       "    </tr>\n",
       "    <tr>\n",
       "      <td>760</td>\n",
       "      <td>5/16</td>\n",
       "      <td>785.0</td>\n",
       "      <td>47784</td>\n",
       "      <td>693276</td>\n",
       "      <td>Texas</td>\n",
       "      <td>04000US48</td>\n",
       "      <td>28701845</td>\n",
       "      <td>166.484071</td>\n",
       "      <td>4.654753</td>\n",
       "      <td>2415.440540</td>\n",
       "      <td>NaN</td>\n",
       "      <td>2.735016</td>\n",
       "      <td>1589673600000</td>\n",
       "      <td>1336</td>\n",
       "      <td>0</td>\n",
       "      <td>data\\Total Confirmed Cases by Date_florida.csv</td>\n",
       "    </tr>\n",
       "    <tr>\n",
       "      <td>761</td>\n",
       "      <td>5/17</td>\n",
       "      <td>909.0</td>\n",
       "      <td>48693</td>\n",
       "      <td>723013</td>\n",
       "      <td>Texas</td>\n",
       "      <td>04000US48</td>\n",
       "      <td>28701845</td>\n",
       "      <td>169.651115</td>\n",
       "      <td>4.693078</td>\n",
       "      <td>2519.047120</td>\n",
       "      <td>NaN</td>\n",
       "      <td>3.167044</td>\n",
       "      <td>1589760000000</td>\n",
       "      <td>1347</td>\n",
       "      <td>0</td>\n",
       "      <td>data\\Total Confirmed Cases by Date_florida.csv</td>\n",
       "    </tr>\n",
       "    <tr>\n",
       "      <td>762</td>\n",
       "      <td>5/18</td>\n",
       "      <td>1219.0</td>\n",
       "      <td>49912</td>\n",
       "      <td>744937</td>\n",
       "      <td>Texas</td>\n",
       "      <td>04000US48</td>\n",
       "      <td>28701845</td>\n",
       "      <td>173.898228</td>\n",
       "      <td>4.769728</td>\n",
       "      <td>2595.432454</td>\n",
       "      <td>NaN</td>\n",
       "      <td>4.247114</td>\n",
       "      <td>1589846400000</td>\n",
       "      <td>1369</td>\n",
       "      <td>0</td>\n",
       "      <td>data\\Total Confirmed Cases by Date_florida.csv</td>\n",
       "    </tr>\n",
       "  </tbody>\n",
       "</table>\n",
       "</div>"
      ],
      "text/plain": [
       "     Date  ConfirmedGrowth  Confirmed   Tests Geography ID Geography  \\\n",
       "758  5/14           1347.0      45198  645992     Texas    04000US48   \n",
       "759  5/15           1801.0      46999  678471     Texas    04000US48   \n",
       "760  5/16            785.0      47784  693276     Texas    04000US48   \n",
       "761  5/17            909.0      48693  723013     Texas    04000US48   \n",
       "762  5/18           1219.0      49912  744937     Texas    04000US48   \n",
       "\n",
       "     Population  ConfirmedPC  DeathsPC      TestsPC  HospitalizedPC  \\\n",
       "758    28701845   157.474197  4.431771  2250.698518             NaN   \n",
       "759    28701845   163.749055  4.546746  2363.858491             NaN   \n",
       "760    28701845   166.484071  4.654753  2415.440540             NaN   \n",
       "761    28701845   169.651115  4.693078  2519.047120             NaN   \n",
       "762    28701845   173.898228  4.769728  2595.432454             NaN   \n",
       "\n",
       "     ConfirmedGrowthPC      Timestamp  Deaths  Hospitalized  \\\n",
       "758           4.693078  1589500800000    1272             0   \n",
       "759           6.274858  1589587200000    1305             0   \n",
       "760           2.735016  1589673600000    1336             0   \n",
       "761           3.167044  1589760000000    1347             0   \n",
       "762           4.247114  1589846400000    1369             0   \n",
       "\n",
       "                                           filename  \n",
       "758  data\\Total Confirmed Cases by Date_florida.csv  \n",
       "759  data\\Total Confirmed Cases by Date_florida.csv  \n",
       "760  data\\Total Confirmed Cases by Date_florida.csv  \n",
       "761  data\\Total Confirmed Cases by Date_florida.csv  \n",
       "762  data\\Total Confirmed Cases by Date_florida.csv  "
      ]
     },
     "execution_count": 4,
     "metadata": {},
     "output_type": "execute_result"
    }
   ],
   "source": [
    "df.tail()"
   ]
  },
  {
   "cell_type": "code",
   "execution_count": 57,
   "metadata": {},
   "outputs": [
    {
     "data": {
      "text/plain": [
       "(763, 16)"
      ]
     },
     "execution_count": 57,
     "metadata": {},
     "output_type": "execute_result"
    }
   ],
   "source": [
    "df.shape"
   ]
  },
  {
   "cell_type": "code",
   "execution_count": 58,
   "metadata": {},
   "outputs": [
    {
     "name": "stdout",
     "output_type": "stream",
     "text": [
      "<class 'pandas.core.frame.DataFrame'>\n",
      "RangeIndex: 763 entries, 0 to 762\n",
      "Data columns (total 16 columns):\n",
      "Date                 763 non-null object\n",
      "ConfirmedGrowth      753 non-null float64\n",
      "Confirmed            763 non-null int64\n",
      "Tests                763 non-null int64\n",
      "Geography            763 non-null object\n",
      "ID Geography         763 non-null object\n",
      "Population           763 non-null int64\n",
      "ConfirmedPC          762 non-null float64\n",
      "DeathsPC             763 non-null float64\n",
      "TestsPC              763 non-null float64\n",
      "HospitalizedPC       283 non-null float64\n",
      "ConfirmedGrowthPC    741 non-null float64\n",
      "Timestamp            763 non-null int64\n",
      "Deaths               763 non-null int64\n",
      "Hospitalized         763 non-null int64\n",
      "filename             763 non-null object\n",
      "dtypes: float64(6), int64(6), object(4)\n",
      "memory usage: 95.5+ KB\n"
     ]
    }
   ],
   "source": [
    "df.info()"
   ]
  },
  {
   "cell_type": "code",
   "execution_count": 59,
   "metadata": {},
   "outputs": [
    {
     "data": {
      "text/plain": [
       "Index(['Date', 'ConfirmedGrowth', 'Confirmed', 'Tests', 'Geography',\n",
       "       'ID Geography', 'Population', 'ConfirmedPC', 'DeathsPC', 'TestsPC',\n",
       "       'HospitalizedPC', 'ConfirmedGrowthPC', 'Timestamp', 'Deaths',\n",
       "       'Hospitalized'],\n",
       "      dtype='object')"
      ]
     },
     "execution_count": 59,
     "metadata": {},
     "output_type": "execute_result"
    }
   ],
   "source": [
    "df_del= df.drop('filename', 1)\n",
    "df_del.columns"
   ]
  },
  {
   "cell_type": "code",
   "execution_count": 62,
   "metadata": {},
   "outputs": [
    {
     "data": {
      "text/plain": [
       "array(['California', 'Illinois', 'Massachusetts', 'Michigan',\n",
       "       'Pennsylvania', 'Florida', 'Maryland', 'Texas'], dtype=object)"
      ]
     },
     "execution_count": 62,
     "metadata": {},
     "output_type": "execute_result"
    }
   ],
   "source": [
    "df_del['Geography'].unique()"
   ]
  },
  {
   "cell_type": "code",
   "execution_count": 73,
   "metadata": {},
   "outputs": [
    {
     "data": {
      "text/plain": [
       "Michigan         160\n",
       "Pennsylvania     150\n",
       "Illinois          77\n",
       "Texas             77\n",
       "Florida           77\n",
       "California        77\n",
       "Maryland          76\n",
       "Massachusetts     69\n",
       "Name: Geography, dtype: int64"
      ]
     },
     "execution_count": 73,
     "metadata": {},
     "output_type": "execute_result"
    }
   ],
   "source": [
    "df_del['Geography'].value_counts()"
   ]
  },
  {
   "cell_type": "code",
   "execution_count": 63,
   "metadata": {},
   "outputs": [],
   "source": [
    "df_drop= df_del.drop_duplicates()"
   ]
  },
  {
   "cell_type": "code",
   "execution_count": 64,
   "metadata": {},
   "outputs": [
    {
     "data": {
      "text/plain": [
       "(608, 15)"
      ]
     },
     "execution_count": 64,
     "metadata": {},
     "output_type": "execute_result"
    }
   ],
   "source": [
    "df_drop.shape"
   ]
  },
  {
   "cell_type": "code",
   "execution_count": 74,
   "metadata": {},
   "outputs": [
    {
     "data": {
      "text/plain": [
       "Michigan         80\n",
       "Illinois         77\n",
       "Florida          77\n",
       "Texas            77\n",
       "California       77\n",
       "Maryland         76\n",
       "Pennsylvania     75\n",
       "Massachusetts    69\n",
       "Name: Geography, dtype: int64"
      ]
     },
     "execution_count": 74,
     "metadata": {},
     "output_type": "execute_result"
    }
   ],
   "source": [
    "df_drop['Geography'].value_counts()"
   ]
  },
  {
   "cell_type": "code",
   "execution_count": 75,
   "metadata": {},
   "outputs": [
    {
     "data": {
      "text/plain": [
       "0"
      ]
     },
     "execution_count": 75,
     "metadata": {},
     "output_type": "execute_result"
    }
   ],
   "source": [
    "df_del['Geography'].isnull().sum()"
   ]
  },
  {
   "cell_type": "code",
   "execution_count": 76,
   "metadata": {},
   "outputs": [],
   "source": [
    "df_drop.to_csv(r'data\\File Name.csv', index = False)"
   ]
  },
  {
   "cell_type": "code",
   "execution_count": null,
   "metadata": {},
   "outputs": [],
   "source": []
  }
 ],
 "metadata": {
  "kernelspec": {
   "display_name": "Python 3",
   "language": "python",
   "name": "python3"
  },
  "language_info": {
   "codemirror_mode": {
    "name": "ipython",
    "version": 3
   },
   "file_extension": ".py",
   "mimetype": "text/x-python",
   "name": "python",
   "nbconvert_exporter": "python",
   "pygments_lexer": "ipython3",
   "version": "3.7.4"
  }
 },
 "nbformat": 4,
 "nbformat_minor": 2
}
