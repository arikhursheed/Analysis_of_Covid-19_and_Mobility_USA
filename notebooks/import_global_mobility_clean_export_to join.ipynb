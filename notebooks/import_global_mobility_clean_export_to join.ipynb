{
 "cells": [
  {
   "cell_type": "code",
   "execution_count": null,
   "metadata": {},
   "outputs": [],
   "source": [
    "import pandas as pd"
   ]
  },
  {
   "cell_type": "markdown",
   "metadata": {},
   "source": [
    "# Import Global_Mobility_Report from website"
   ]
  },
  {
   "cell_type": "raw",
   "metadata": {},
   "source": [
    "filter to only united sates data\n",
    "drop unwanted columns\n",
    "renames columns\n",
    "save the file"
   ]
  },
  {
   "cell_type": "code",
   "execution_count": null,
   "metadata": {},
   "outputs": [],
   "source": [
    "#import method one\n",
    "#%%time\n",
    "\n",
    "#create an empty chunk list\n",
    "united_states =[]\n",
    "\n",
    "for chunk in pd.read_csv('https://www.gstatic.com/covid19/mobility/Global_Mobility_Report.csv',chunksize = 1000):\n",
    "\n",
    "    \n",
    "#filter to only United States  \n",
    "    chunk = chunk[chunk['country_region'] == 'United States']\n",
    "    \n",
    "    #chunk = chunk['sub_region_1'] != 'NaN'\n",
    "   # chunk.dropna=['sub_region_1'])\n",
    "    united_states.append(chunk) \n",
    "    \n",
    "#concat the chunk list to one dataframe               \n",
    "df_united_states = pd.concat(united_states, ignore_index=True)"
   ]
  },
  {
   "cell_type": "code",
   "execution_count": null,
   "metadata": {},
   "outputs": [],
   "source": [
    "#df_united_states.head()"
   ]
  },
  {
   "cell_type": "code",
   "execution_count": null,
   "metadata": {},
   "outputs": [],
   "source": [
    "#import method 2 to import the data above\n",
    "df_globe_mobility = pd.read_csv('https://www.gstatic.com/covid19/mobility/Global_Mobility_Report.csv')"
   ]
  },
  {
   "cell_type": "code",
   "execution_count": null,
   "metadata": {},
   "outputs": [],
   "source": [
    "df_globe_mobility.head()"
   ]
  },
  {
   "cell_type": "code",
   "execution_count": null,
   "metadata": {},
   "outputs": [],
   "source": [
    "#choose to filter by commenting out the code or remove the comment\n",
    "df_united_states = df_globe_mobility[df_globe_mobility['country_region']== 'United States'] #get only united states\n",
    "df_united_states = df_united_states[df_united_states['sub_region_1'].notna()]                 #filter to all states\n",
    "#df_united_states = df_united_states[df_united_states['sub_region_2'].isna()]   #remove counties from the dataframe"
   ]
  },
  {
   "cell_type": "code",
   "execution_count": null,
   "metadata": {},
   "outputs": [],
   "source": [
    "#drop unwanted columns from the dataframe\n",
    "df_united_states = df_united_states.drop(['country_region'], axis=1) # drop country names\n",
    "#df_states = df_states.drop(['sub_region_2'], axis=1)          #drop all sub_region such as counties\n",
    "df_united_states.tail()"
   ]
  },
  {
   "cell_type": "code",
   "execution_count": null,
   "metadata": {},
   "outputs": [],
   "source": [
    "print(df_united_states.shape)"
   ]
  },
  {
   "cell_type": "markdown",
   "metadata": {},
   "source": [
    "clean names of columns"
   ]
  },
  {
   "cell_type": "code",
   "execution_count": null,
   "metadata": {},
   "outputs": [],
   "source": [
    "\n",
    "df_mobility = df_united_states.rename(columns={'country_region_code': 'country_code',\n",
    "                                              'sub_region_1': 'state',\n",
    "                                             'sub_region_2': 'county',        #comment out county if not used above\n",
    "        'retail_and_recreation_percent_change_from_baseline': 'retail_and_recreation',\n",
    "         'grocery_and_pharmacy_percent_change_from_baseline': 'grocery_and_pharmacy',\n",
    "                        'parks_percent_change_from_baseline': 'parks',\n",
    "             'transit_stations_percent_change_from_baseline': 'transit_stations',\n",
    "                   'workplaces_percent_change_from_baseline': 'workplaces',\n",
    "                  'residential_percent_change_from_baseline': 'residential'})"
   ]
  },
  {
   "cell_type": "code",
   "execution_count": null,
   "metadata": {},
   "outputs": [],
   "source": [
    "df_mobility.head()"
   ]
  },
  {
   "cell_type": "markdown",
   "metadata": {},
   "source": [
    "Fill NaN with 0 "
   ]
  },
  {
   "cell_type": "code",
   "execution_count": null,
   "metadata": {},
   "outputs": [],
   "source": [
    "#df_mobility = df_mobility.fillna(0)"
   ]
  },
  {
   "cell_type": "code",
   "execution_count": null,
   "metadata": {},
   "outputs": [],
   "source": [
    "#change the format of columns\n",
    "\n",
    "# df_mobility= df_mobility.astype({  \"retail_and_recreation\": int,\n",
    "#                                     \"grocery_and_pharmacy\": int,\n",
    "#                                                   'parks' : int,\n",
    "#                                        'transit_stations' : int,\n",
    "#                                              'workplaces' : int,\n",
    "#                                             'residential' : int\n",
    "                                       \n",
    "#                                            })        #convert columns data type to int"
   ]
  },
  {
   "cell_type": "code",
   "execution_count": null,
   "metadata": {},
   "outputs": [],
   "source": [
    "df_mobility.tail()"
   ]
  },
  {
   "cell_type": "code",
   "execution_count": null,
   "metadata": {
    "scrolled": true
   },
   "outputs": [],
   "source": [
    "#df_mobility.sort_values('state', ascending=True)"
   ]
  },
  {
   "cell_type": "code",
   "execution_count": null,
   "metadata": {},
   "outputs": [],
   "source": [
    "df_mobility['county'].unique()"
   ]
  },
  {
   "cell_type": "code",
   "execution_count": null,
   "metadata": {},
   "outputs": [],
   "source": [
    "#replace the word County with nothing in the county column\n",
    "df_mobility['county'] = df_mobility.county.str.replace('County' , '') #check this if county column is not removed"
   ]
  },
  {
   "cell_type": "code",
   "execution_count": null,
   "metadata": {},
   "outputs": [],
   "source": [
    "#check to see changes if have deleted any name\n",
    "df_mobility['county'].unique()"
   ]
  },
  {
   "cell_type": "code",
   "execution_count": null,
   "metadata": {},
   "outputs": [],
   "source": [
    "df_mobility['county'].nunique()"
   ]
  },
  {
   "cell_type": "code",
   "execution_count": null,
   "metadata": {},
   "outputs": [],
   "source": [
    "df_mobility.head()"
   ]
  },
  {
   "cell_type": "code",
   "execution_count": null,
   "metadata": {
    "scrolled": true
   },
   "outputs": [],
   "source": [
    "df_mobility['state'].unique()"
   ]
  },
  {
   "cell_type": "code",
   "execution_count": null,
   "metadata": {},
   "outputs": [],
   "source": [
    "df_mobility.info()"
   ]
  },
  {
   "cell_type": "code",
   "execution_count": null,
   "metadata": {},
   "outputs": [],
   "source": []
  },
  {
   "cell_type": "code",
   "execution_count": null,
   "metadata": {},
   "outputs": [],
   "source": [
    "#save the dataframe to csv file\n",
    "df_mobility.to_csv('../data/united_states_mobility2.csv', index= False)"
   ]
  },
  {
   "cell_type": "code",
   "execution_count": null,
   "metadata": {},
   "outputs": [],
   "source": []
  }
 ],
 "metadata": {
  "kernelspec": {
   "display_name": "Python 3",
   "language": "python",
   "name": "python3"
  },
  "language_info": {
   "codemirror_mode": {
    "name": "ipython",
    "version": 3
   },
   "file_extension": ".py",
   "mimetype": "text/x-python",
   "name": "python",
   "nbconvert_exporter": "python",
   "pygments_lexer": "ipython3",
   "version": "3.7.4"
  }
 },
 "nbformat": 4,
 "nbformat_minor": 2
}
