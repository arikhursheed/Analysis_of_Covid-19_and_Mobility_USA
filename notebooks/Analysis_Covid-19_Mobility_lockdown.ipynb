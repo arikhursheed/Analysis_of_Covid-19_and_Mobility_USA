{
 "cells": [
  {
   "cell_type": "code",
   "execution_count": null,
   "metadata": {},
   "outputs": [],
   "source": [
    "#import plotly package\n",
    "import plotly.express as px\n",
    "import plotly.graph_objs as go\n",
    "from plotly.offline import download_plotlyjs, init_notebook_mode, plot, iplot"
   ]
  },
  {
   "cell_type": "code",
   "execution_count": null,
   "metadata": {},
   "outputs": [],
   "source": [
    "import pandas as pd\n",
    "import numpy as np\n",
    "import matplotlib.pyplot as plt\n",
    "%matplotlib inline"
   ]
  },
  {
   "cell_type": "markdown",
   "metadata": {},
   "source": [
    "# Read in the combined datasets for analysis"
   ]
  },
  {
   "cell_type": "code",
   "execution_count": null,
   "metadata": {},
   "outputs": [],
   "source": [
    "df= pd.read_csv('../data/all_counties_states_mobility.csv', low_memory=False)"
   ]
  },
  {
   "cell_type": "code",
   "execution_count": null,
   "metadata": {},
   "outputs": [],
   "source": [
    "df.shape"
   ]
  },
  {
   "cell_type": "code",
   "execution_count": null,
   "metadata": {},
   "outputs": [],
   "source": [
    "#change the data type of date, date_start and date_end to datetime type\n",
    "df['date'] = pd.to_datetime(df['date'], errors='coerce')\n",
    "df['date_start'] = pd.to_datetime(df['date_start'], errors= 'coerce')\n",
    "df['date_end'] = pd.to_datetime(df['date_end'], errors= 'coerce')"
   ]
  },
  {
   "cell_type": "code",
   "execution_count": null,
   "metadata": {},
   "outputs": [],
   "source": [
    "df.columns"
   ]
  },
  {
   "cell_type": "code",
   "execution_count": null,
   "metadata": {},
   "outputs": [],
   "source": [
    "#df[\"state\"].nunique()"
   ]
  },
  {
   "cell_type": "code",
   "execution_count": null,
   "metadata": {},
   "outputs": [],
   "source": [
    "#groupby the dataframe by state and get the max in diff_days\n",
    "# lockdown_days= df.groupby(['state'])['diff_days'].max()\n",
    "\n",
    "# lockdown_days.plot.bar()\n",
    "# plt.xticks(rotation = 90)\n",
    "# plt.title(\"lockdown days by state\");"
   ]
  },
  {
   "cell_type": "code",
   "execution_count": null,
   "metadata": {},
   "outputs": [],
   "source": [
    "#groupby states and get max diff_days:days in lockdown\n",
    "lockdown_days= df.groupby(['state'])['diff_days'].max()"
   ]
  },
  {
   "cell_type": "code",
   "execution_count": null,
   "metadata": {},
   "outputs": [],
   "source": [
    "#convert the groupby table to dataframe\n",
    "df_lockdown_days=pd.DataFrame(lockdown_days)"
   ]
  },
  {
   "cell_type": "code",
   "execution_count": null,
   "metadata": {},
   "outputs": [],
   "source": [
    "#reset the index\n",
    "df_lockdown_days.reset_index(level=0, inplace=True)"
   ]
  },
  {
   "cell_type": "code",
   "execution_count": null,
   "metadata": {},
   "outputs": [],
   "source": [
    "#convert multiindex to columns\n",
    "df_lockdown_days.reset_index(inplace=True)  "
   ]
  },
  {
   "cell_type": "code",
   "execution_count": null,
   "metadata": {},
   "outputs": [],
   "source": [
    "df_lockdown_days.head()"
   ]
  },
  {
   "cell_type": "code",
   "execution_count": null,
   "metadata": {},
   "outputs": [],
   "source": [
    "#create bar descending order \n",
    "df_lockdown_days= df_lockdown_days.sort_values(by='diff_days', ascending=False)\n",
    "\n",
    "fig = px.bar(df_lockdown_days,\n",
    "              x= 'state', \n",
    "              y=\"diff_days\",\n",
    "              #color=\"state\",\n",
    "              title='Total lockdown days by State',\n",
    "             labels={'diff_days':'total days in lockdown'}\n",
    "                )\n",
    "\n",
    "fig.show()"
   ]
  },
  {
   "cell_type": "markdown",
   "metadata": {},
   "source": [
    "6 states didn't issue stay at home order and 45 issued the order."
   ]
  },
  {
   "cell_type": "markdown",
   "metadata": {},
   "source": [
    "# Sort and plot by the column totalTestResults from  highest to lowest"
   ]
  },
  {
   "cell_type": "code",
   "execution_count": null,
   "metadata": {},
   "outputs": [],
   "source": [
    "#groupby states and get max diff_days\n",
    "totalTestResults_max= df.groupby(['state'])['totalTestResults'].max()"
   ]
  },
  {
   "cell_type": "code",
   "execution_count": null,
   "metadata": {},
   "outputs": [],
   "source": [
    "#convert the groupby table to dataframe\n",
    "df_totalTestResults_max=pd.DataFrame(totalTestResults_max)"
   ]
  },
  {
   "cell_type": "code",
   "execution_count": null,
   "metadata": {},
   "outputs": [],
   "source": [
    "#reset the index\n",
    "df_totalTestResults_max.reset_index(level=0, inplace=True)"
   ]
  },
  {
   "cell_type": "code",
   "execution_count": null,
   "metadata": {},
   "outputs": [],
   "source": [
    "#convert multiindex to columns\n",
    "df_totalTestResults_max.reset_index(inplace=True) "
   ]
  },
  {
   "cell_type": "code",
   "execution_count": null,
   "metadata": {},
   "outputs": [],
   "source": [
    "df_totalTestResults_max.head()"
   ]
  },
  {
   "cell_type": "code",
   "execution_count": null,
   "metadata": {},
   "outputs": [],
   "source": [
    "#make the chart in a descending order\n",
    "df_totalTestResults_max = df_totalTestResults_max.sort_values(by='totalTestResults', ascending=False)\n",
    "\n",
    "fig = px.bar(df_totalTestResults_max,\n",
    "               x= 'state', \n",
    "               y=\"totalTestResults\",\n",
    "               #hover_data=['totalTestResults', 'state'],\n",
    "               #color=\"state\",\n",
    "               title=\"Total Tests by State\",\n",
    "               labels={'totalTestResults':'total tests in millions'}, height=600\n",
    "            )\n",
    "    \n",
    "\n",
    "fig.show()"
   ]
  },
  {
   "cell_type": "markdown",
   "metadata": {},
   "source": [
    "# Plot positive increase by state"
   ]
  },
  {
   "cell_type": "code",
   "execution_count": null,
   "metadata": {},
   "outputs": [],
   "source": [
    "fig = px.line(df,\n",
    "              x= 'date', \n",
    "              y=\"positiveIncrease\",\n",
    "              color=\"state\",\n",
    "              title='Daily positive increase across all states'\n",
    "                )\n",
    "\n",
    "fig.show()"
   ]
  },
  {
   "cell_type": "raw",
   "metadata": {},
   "source": [
    "Select the state with highest positive increase  \n",
    "we are going to look at the the mobility percent change during the lockdown\n",
    "then plot the daily positive increase\n"
   ]
  },
  {
   "cell_type": "markdown",
   "metadata": {},
   "source": [
    "# New York"
   ]
  },
  {
   "cell_type": "code",
   "execution_count": null,
   "metadata": {},
   "outputs": [],
   "source": [
    "state_highest = \"New York\""
   ]
  },
  {
   "cell_type": "code",
   "execution_count": null,
   "metadata": {},
   "outputs": [],
   "source": [
    "#filter to state without counties\n",
    "df_topmost_state = df.loc[(df[\"state\"] == state_highest) & (df[\"county\"].isna())]"
   ]
  },
  {
   "cell_type": "code",
   "execution_count": null,
   "metadata": {},
   "outputs": [],
   "source": [
    "df_topmost_state.head()"
   ]
  },
  {
   "cell_type": "code",
   "execution_count": null,
   "metadata": {
    "scrolled": false
   },
   "outputs": [],
   "source": [
    "\n",
    "#use ploty to make nice line plot\n",
    "fig = px.line(df_topmost_state,\n",
    "              x= 'date',\n",
    "              y= \"percent_change\",\n",
    "              color=\"mobility\",\n",
    "              line_shape=\"spline\",\n",
    "              title='Mobility percent change in' +\" \" + state_highest  +\" \"+'state')\n",
    "fig.add_annotation(\n",
    "            x=\"2020-03-20\",#df_topmost_state['date_start'].astype(str).head(),\n",
    "            y=50,\n",
    "            text=\"lockdown day: 2020-03-20\")\n",
    "fig.show()"
   ]
  },
  {
   "cell_type": "raw",
   "metadata": {},
   "source": [
    "Mobility percent change :\n",
    "\n",
    "transit_station(-70) as first\n",
    "retail_and_recreation(-75) as second\n",
    "workplaces(-73) as third\n"
   ]
  },
  {
   "cell_type": "code",
   "execution_count": null,
   "metadata": {},
   "outputs": [],
   "source": [
    "#use ploty to make nice line plot\n",
    "fig = px.line(df_topmost_state,\n",
    "              x= 'date',\n",
    "              y= \"positiveIncrease\",\n",
    "              \n",
    "              line_shape=\"spline\",\n",
    "              title='Daily positive test increase in' +\" \" + state_highest  +\" \"+'state')\n",
    "fig.add_annotation(\n",
    "            x=\"2020-03-20\",\n",
    "            y=3050, #\n",
    "            text=\"lockdown day: 2020-03-20\")\n",
    "fig.show()"
   ]
  },
  {
   "cell_type": "markdown",
   "metadata": {},
   "source": [
    "Comparing both bove charts, we see decline in the number of daily positive increase as the mobility percent change declined  "
   ]
  },
  {
   "cell_type": "code",
   "execution_count": null,
   "metadata": {},
   "outputs": [],
   "source": []
  },
  {
   "cell_type": "code",
   "execution_count": null,
   "metadata": {},
   "outputs": [],
   "source": [
    "#use ploty to make nice line plot\n",
    "fig = px.line(df_topmost_state,\n",
    "              x= 'date',\n",
    "              y= \"totalTestResultsIncrease\",\n",
    "              \n",
    "              line_shape=\"spline\",\n",
    "              title='Daily total testing increase in' +\" \" + state_highest  +\" \"+'state')\n",
    "\n",
    "              \n",
    "fig.add_annotation(\n",
    "            x=\"2020-03-20\",\n",
    "            y=10000, #\n",
    "            text=\"lockdown day: 2020-03-20\")\n",
    "fig.show()"
   ]
  },
  {
   "cell_type": "code",
   "execution_count": null,
   "metadata": {},
   "outputs": [],
   "source": [
    "fig = px.line(df_topmost_state,\n",
    "              x= 'date',\n",
    "              y= \"deathIncrease\",\n",
    "              \n",
    "              line_shape=\"spline\",\n",
    "              title='Daily death increase in' +\" \" + state_highest  +\" \"+'state')\n",
    "\n",
    "fig.add_shape(\n",
    "         #Line Vertical,\n",
    "        dict(\n",
    "            type=\"line\",\n",
    "            x0=df_topmost_state['date_start'].head(1),\n",
    "            y0=0,\n",
    "            x1=df_topmost_state['date_start'].head(1),\n",
    "            y1=df_topmost_state['deathIncrease'].max(),\n",
    "            line=dict(\n",
    "                color=\"RoyalBlue\",\n",
    "                width=3\n",
    "            )\n",
    "))\n",
    "\n",
    "\n",
    "\n",
    "fig.add_annotation(\n",
    "            x=\"2020-03-20\",\n",
    "            y=50, #\n",
    "            text=\"lockdown day: 2020-03-20\")\n",
    "fig.show()"
   ]
  },
  {
   "cell_type": "markdown",
   "metadata": {},
   "source": [
    "# Now we look at the bottom one in the  Max positive increase"
   ]
  },
  {
   "cell_type": "code",
   "execution_count": null,
   "metadata": {},
   "outputs": [],
   "source": [
    "#groupby states and get max diff_days\n",
    "positiveIncrease_sorted= df.groupby(['state'])['positiveIncrease'].max()\n",
    "#convert the groupby table to dataframe\n",
    "df_positiveIncrease_sorted=pd.DataFrame(positiveIncrease_sorted)\n",
    "#reset the index\n",
    "df_positiveIncrease_sorted.reset_index(level=0, inplace=True)\n",
    "#convert multiindex to columns\n",
    "df_positiveIncrease_sorted.reset_index(inplace=True) "
   ]
  },
  {
   "cell_type": "code",
   "execution_count": null,
   "metadata": {},
   "outputs": [],
   "source": [
    "#df_positiveIncrease_sorted.head()"
   ]
  },
  {
   "cell_type": "code",
   "execution_count": null,
   "metadata": {},
   "outputs": [],
   "source": [
    "df_positiveIncrease_sorted = df_positiveIncrease_sorted.sort_values(by='positiveIncrease', ascending=False)\n",
    "fig = px.bar(df_positiveIncrease_sorted,\n",
    "               x= 'state', \n",
    "               y=\"positiveIncrease\",\n",
    "               #hover_data=['totalTestResults', 'state'],\n",
    "               #color=\"state\",\n",
    "               title=\"Max positive Increase by State \",\n",
    "               labels={'positiveIncrease':\"Max positive Increase\"}, height=600\n",
    "            )\n",
    "    \n",
    "\n",
    "fig.show()"
   ]
  },
  {
   "cell_type": "markdown",
   "metadata": {},
   "source": [
    "look at Alaska to see changes in Mobility, daily total tests, daily positive tests, and death increase"
   ]
  },
  {
   "cell_type": "raw",
   "metadata": {},
   "source": [
    "Select state with lowest positive increase \n",
    "we are going to look at the the mobility percent change during the lockdown\n",
    "then plot the daily positive increase\n",
    "also plot daily total tests vs positive increase"
   ]
  },
  {
   "cell_type": "code",
   "execution_count": null,
   "metadata": {},
   "outputs": [],
   "source": [
    "#positiveIncrease_sort.tail()"
   ]
  },
  {
   "cell_type": "markdown",
   "metadata": {},
   "source": [
    "# Alaska"
   ]
  },
  {
   "cell_type": "code",
   "execution_count": null,
   "metadata": {},
   "outputs": [],
   "source": [
    "state_lowest= \"Alaska\""
   ]
  },
  {
   "cell_type": "code",
   "execution_count": null,
   "metadata": {},
   "outputs": [],
   "source": [
    "#filter to state without counties\n",
    "df_bottom_state = df.loc[(df[\"state\"] == state_lowest) & (df[\"county\"].isna())]"
   ]
  },
  {
   "cell_type": "code",
   "execution_count": null,
   "metadata": {},
   "outputs": [],
   "source": [
    "df_bottom_state.head()"
   ]
  },
  {
   "cell_type": "markdown",
   "metadata": {},
   "source": [
    "plot mibility percent change "
   ]
  },
  {
   "cell_type": "code",
   "execution_count": null,
   "metadata": {},
   "outputs": [],
   "source": [
    "#use ploty to make nice line plot\n",
    "fig = px.line(df_bottom_state,\n",
    "              x= 'date',\n",
    "              y= \"percent_change\",\n",
    "              color=\"mobility\",\n",
    "              line_shape=\"spline\",\n",
    "              title='Mobility percent change in' +\" \" +state_lowest+\" \"+'state')\n",
    "fig.add_annotation(\n",
    "            x='2020-03-28',\n",
    "            y=50,\n",
    "            text=\"lockdown day: 2020-03-28\")\n",
    "fig.show()"
   ]
  },
  {
   "cell_type": "markdown",
   "metadata": {},
   "source": [
    "plot daily test results"
   ]
  },
  {
   "cell_type": "code",
   "execution_count": null,
   "metadata": {},
   "outputs": [],
   "source": [
    "#use ploty to make nice line plot\n",
    "fig = px.line(df_bottom_state,\n",
    "              x= 'date',\n",
    "              y= \"totalTestResultsIncrease\",\n",
    "              \n",
    "              line_shape=\"spline\",\n",
    "              title='Daily total tests in' +\" \" + state_lowest  +\" \"+'state',\n",
    "             labels={'totalTestResultsIncrease':'daily total tests'})\n",
    "fig.add_annotation(\n",
    "            x='2020-03-28',\n",
    "            y=500,\n",
    "            text=\"lockdown day: 2020-03-28\")\n",
    "fig.show()"
   ]
  },
  {
   "cell_type": "markdown",
   "metadata": {},
   "source": [
    "plot daily positive tests"
   ]
  },
  {
   "cell_type": "code",
   "execution_count": null,
   "metadata": {},
   "outputs": [],
   "source": [
    "#use ploty to make nice line plot\n",
    "fig = px.line(df_bottom_state,\n",
    "              x= 'date',\n",
    "              y= \"positiveIncrease\",\n",
    "              \n",
    "              line_shape=\"spline\",\n",
    "              title='Daily positive tests in' +\" \" + state_lowest  +\" \"+'state',\n",
    "             labels={'positiveIncrease':'daily positive tests'})\n",
    "fig.add_annotation(\n",
    "            x='2020-03-28',\n",
    "            y=18,\n",
    "            text=\"lockdown day: 2020-03-28\")\n",
    "fig.show()"
   ]
  },
  {
   "cell_type": "markdown",
   "metadata": {},
   "source": [
    "plot death increase"
   ]
  },
  {
   "cell_type": "code",
   "execution_count": null,
   "metadata": {},
   "outputs": [],
   "source": [
    "fig = px.line(df_bottom_state,\n",
    "              x= 'date',\n",
    "              y= \"deathIncrease\",\n",
    "              \n",
    "              line_shape=\"spline\",\n",
    "              title='Daily death increase in' +\" \" + state_lowest  +\" \"+'state')\n",
    "\n",
    "fig.add_shape(\n",
    "         #Line Vertical,\n",
    "        dict(\n",
    "            type=\"line\",\n",
    "            x0=df_bottom_state['date_start'].head(1),\n",
    "            y0=0,\n",
    "            x1=df_bottom_state['date_start'].head(1),\n",
    "            y1=df_bottom_state['deathIncrease'].max(),\n",
    "            line=dict(\n",
    "                color=\"RoyalBlue\",\n",
    "                width=3\n",
    "            )\n",
    "))\n",
    "\n",
    "\n",
    "\n",
    "fig.add_annotation(\n",
    "            x='2020-03-28',\n",
    "            y=5,\n",
    "            text=\"lockdown day: 2020-03-28\")\n",
    "fig.show()"
   ]
  },
  {
   "cell_type": "markdown",
   "metadata": {},
   "source": [
    "plot stucked bar chart for daily positive tests and daily total tests"
   ]
  },
  {
   "cell_type": "code",
   "execution_count": null,
   "metadata": {
    "scrolled": true
   },
   "outputs": [],
   "source": [
    "#stacked bar chart by date for positiveIncrease and totalTestResultsIncrease\n",
    "\n",
    "\n",
    "plt.figure(figsize = (10, 5))\n",
    "\n",
    "plt.bar(df_bottom_state['date'],\n",
    "        df_bottom_state['totalTestResultsIncrease'],\n",
    "        bottom=df_bottom_state['positiveIncrease'],\n",
    "        label='daily total tests',color='#FFD200')\n",
    "\n",
    "plt.bar(df_bottom_state['date'],\n",
    "        df_bottom_state['positiveIncrease'],\n",
    "        label = 'daily positive tests',\n",
    "        color='#FF7400')\n",
    "plt.xticks(rotation = 60);\n",
    "\n",
    "\n",
    "plt.legend()\n",
    "\n",
    "plt.show()"
   ]
  },
  {
   "cell_type": "markdown",
   "metadata": {},
   "source": [
    "# Wyoming"
   ]
  },
  {
   "cell_type": "code",
   "execution_count": null,
   "metadata": {},
   "outputs": [],
   "source": []
  },
  {
   "cell_type": "code",
   "execution_count": null,
   "metadata": {},
   "outputs": [],
   "source": [
    "#filter to Wyoming without counties\n",
    "state = \"Wyoming\"\n",
    "df_wyoming = df.loc[(df[\"state\"] == state) & (df[\"county\"].isna())]"
   ]
  },
  {
   "cell_type": "code",
   "execution_count": null,
   "metadata": {},
   "outputs": [],
   "source": [
    "#use ploty to make nice line plot\n",
    "fig = px.line(df_wyoming,\n",
    "              x= 'date',\n",
    "              y= \"percent_change\",\n",
    "              color=\"mobility\",\n",
    "              line_shape=\"spline\",\n",
    "              title='Mobility percent change in the' + state)\n",
    "fig.add_annotation(\n",
    "            x=df_wyoming['date'],\n",
    "          #  y=df_wyoming['date_start'],\n",
    "            text=\"lockdown\")\n",
    "fig.show()"
   ]
  },
  {
   "cell_type": "markdown",
   "metadata": {},
   "source": [
    "positive increase correlate with park percent change "
   ]
  },
  {
   "cell_type": "code",
   "execution_count": null,
   "metadata": {},
   "outputs": [],
   "source": [
    "#use ploty to make nice line plot\n",
    "fig = px.line(df_wyoming,\n",
    "              x= 'date',\n",
    "              y= \"positiveIncrease\",\n",
    "              \n",
    "              line_shape=\"spline\",\n",
    "              title='Daily positive test increase in' +\" \" + state  +\" \"+'state')\n",
    "fig.add_annotation(\n",
    "            x=df_wyoming['date_start'],\n",
    "           # y=df_wyoming['date_start'],\n",
    "            text=\"lockdown\")\n",
    "fig.show()"
   ]
  },
  {
   "cell_type": "code",
   "execution_count": null,
   "metadata": {},
   "outputs": [],
   "source": [
    "plt.figure(figsize = (10, 5))\n",
    "\n",
    "plt.bar(df_wyoming['date'],\n",
    "        df_wyoming['totalTestResultsIncrease'],\n",
    "        bottom=df_wyoming['positiveIncrease'],\n",
    "        label='daily total tests'+\" \"+ state ,color='#FFD200')\n",
    "\n",
    "plt.bar(df_wyoming['date'],\n",
    "        df_wyoming['positiveIncrease'],\n",
    "        label = 'daily positive tests',\n",
    "        color='#FF7400')\n",
    "plt.xticks(rotation = 60);\n",
    "\n",
    "\n",
    "plt.legend()\n",
    "\n",
    "plt.show()"
   ]
  },
  {
   "cell_type": "markdown",
   "metadata": {},
   "source": [
    "# How have mobility changed in Alabama state during Covid-19"
   ]
  },
  {
   "cell_type": "code",
   "execution_count": null,
   "metadata": {},
   "outputs": [],
   "source": [
    "#filter to Alabama without counties\n",
    "state = \"Alabama\"\n",
    "df_alabama_only = df.loc[(df[\"state\"] == state) & (df[\"county\"].isna())]"
   ]
  },
  {
   "cell_type": "code",
   "execution_count": null,
   "metadata": {},
   "outputs": [],
   "source": [
    "df_alabama_only.shape"
   ]
  },
  {
   "cell_type": "code",
   "execution_count": null,
   "metadata": {},
   "outputs": [],
   "source": [
    "#filter to Alabama with out counties\n",
    "#df_alabama= df.query(\"state == 'Alabama'\")\n",
    "#df_alabama = df[df['state'] == \"Alabama\"]\n",
    "#df_alabama_only = df_alabama[df_alabama['county'].isna()] "
   ]
  },
  {
   "cell_type": "code",
   "execution_count": null,
   "metadata": {},
   "outputs": [],
   "source": [
    "df_alabama_only.columns"
   ]
  },
  {
   "cell_type": "code",
   "execution_count": null,
   "metadata": {},
   "outputs": [],
   "source": [
    "#Create a new dataframe where selecting only the plotting coloumns\n",
    "df_line= df_alabama_only[[                 'date',\n",
    "                          'retail_and_recreation',\n",
    "                           'grocery_and_pharmacy',\n",
    "                                          'parks',\n",
    "                               'transit_stations',\n",
    "                                     'workplaces',\n",
    "                                    'residential',\n",
    "                          'date_start',\n",
    "                          'date_end'\n",
    "                         ]]"
   ]
  },
  {
   "cell_type": "code",
   "execution_count": null,
   "metadata": {},
   "outputs": [],
   "source": [
    "#set date column as the index to used it as the base x axis in the line plot\n",
    "df_line= df_line.set_index('date')"
   ]
  },
  {
   "cell_type": "code",
   "execution_count": null,
   "metadata": {},
   "outputs": [],
   "source": [
    "df_line.tail().reset_index()"
   ]
  },
  {
   "cell_type": "code",
   "execution_count": null,
   "metadata": {},
   "outputs": [],
   "source": [
    "#df_line['date'].isna().value_counts()"
   ]
  },
  {
   "cell_type": "code",
   "execution_count": null,
   "metadata": {},
   "outputs": [],
   "source": [
    "# df_line.plot(figsize=(20,10)) \n",
    "# df_line.plot.line()\n",
    "# plt.title('Mobility change in Alabama')\n",
    "# plt.xlabel('date')\n",
    "# plt.ylabel('Percent change')\n",
    "# #plt.show()"
   ]
  },
  {
   "cell_type": "code",
   "execution_count": null,
   "metadata": {},
   "outputs": [],
   "source": [
    "#use ploty to make nice line plot\n",
    "fig = px.line(df_alabama_only,\n",
    "              x= 'date',\n",
    "              y= \"percent_change\",\n",
    "              color=\"mobility\",\n",
    "              line_shape=\"spline\",\n",
    "              title='Mobility percent change in the state Alabama ')\n",
    "fig.add_annotation(\n",
    "            x=df_alabama_only['date'],\n",
    "            y=df_alabama_only['date_start'],\n",
    "            text=\"lockdown\")\n",
    "fig.show()"
   ]
  },
  {
   "cell_type": "code",
   "execution_count": null,
   "metadata": {},
   "outputs": [],
   "source": []
  },
  {
   "cell_type": "code",
   "execution_count": null,
   "metadata": {},
   "outputs": [],
   "source": [
    "#subset the dataframe\n",
    "alabama_only = df_alabama_only[['date',\n",
    "                                'positiveIncrease',\n",
    "                                'totalTestResultsIncrease',\n",
    "                                'date_start', 'date_end',\n",
    "                                'deathIncrease',\n",
    "                                'recovered',\n",
    "                               'death']]"
   ]
  },
  {
   "cell_type": "code",
   "execution_count": null,
   "metadata": {},
   "outputs": [],
   "source": [
    "#use ploty to make nice line plot\n",
    "fig = px.line(alabama_only,\n",
    "              x= 'date',\n",
    "              y= \"deathIncrease\",\n",
    "              \n",
    "              line_shape=\"spline\",\n",
    "              title='Daily death increase ')\n",
    "fig.add_annotation(\n",
    "            x=alabama_only['date'],\n",
    "            y=alabama_only['date_start'],\n",
    "            text=\"lockdown\")\n",
    "fig.show()"
   ]
  },
  {
   "cell_type": "code",
   "execution_count": null,
   "metadata": {},
   "outputs": [],
   "source": [
    "#add new column \n",
    "alabama_only['percent_positive_test']= (alabama_only['positiveIncrease'] / alabama_only['totalTestResultsIncrease']) *100"
   ]
  },
  {
   "cell_type": "code",
   "execution_count": null,
   "metadata": {},
   "outputs": [],
   "source": [
    "alabama_only.tail()"
   ]
  },
  {
   "cell_type": "code",
   "execution_count": null,
   "metadata": {},
   "outputs": [],
   "source": []
  },
  {
   "cell_type": "code",
   "execution_count": null,
   "metadata": {},
   "outputs": [],
   "source": [
    "#stacked bar chart by date for positiveIncrease and totalTestResultsIncrease\n",
    "\n",
    "\n",
    "plt.figure(figsize = (20, 10))\n",
    "\n",
    "\n",
    "plt.bar(alabama_only['date'],\n",
    "        alabama_only['deathIncrease'],\n",
    "        label = 'daily death increase',\n",
    "        color='#FF7400')\n",
    "plt.xticks(rotation = 60);\n",
    "\n",
    "\n",
    "plt.legend()\n",
    "\n",
    "plt.show()"
   ]
  },
  {
   "cell_type": "code",
   "execution_count": null,
   "metadata": {},
   "outputs": [],
   "source": [
    "#stacked bar chart by date for positiveIncrease and totalTestResultsIncrease\n",
    "\n",
    "\n",
    "plt.figure(figsize = (10, 5))\n",
    "\n",
    "plt.bar(alabama_only['date'],\n",
    "        alabama_only['totalTestResultsIncrease'],\n",
    "        bottom=alabama_only['positiveIncrease'],\n",
    "        label='daily total tests',color='#FFD200')\n",
    "\n",
    "plt.bar(alabama_only['date'],\n",
    "        alabama_only['positiveIncrease'],\n",
    "        label = 'daily positive tests',\n",
    "        color='#FF7400')\n",
    "plt.xticks(rotation = 60);\n",
    "\n",
    "\n",
    "plt.legend()\n",
    "\n",
    "plt.show()"
   ]
  },
  {
   "cell_type": "code",
   "execution_count": null,
   "metadata": {},
   "outputs": [],
   "source": [
    "\n",
    "\n",
    "fig = go.Figure(data=[\n",
    "    go.Bar(name='daily positive tests', x=alabama_only['date'],\n",
    "                          y=alabama_only['positiveIncrease'],\n",
    "                          marker_color='rgb(150, 110, 50)'),\n",
    "    go.Bar(name='daily total tests', x=alabama_only['date'],\n",
    "                          y=alabama_only['totalTestResultsIncrease'],    \n",
    "                          marker_color='rgb(250, 50, 50)'),\n",
    "   # go.bar(name='percent change', x=alabama_only['date'], y=alabama_only['daily_positive_percent'])\n",
    "])\n",
    "# Change the bar mode\n",
    "fig.update_layout(barmode='stack', title='daily total tests vs  positive tests')\n",
    "\n",
    "fig.show()"
   ]
  },
  {
   "cell_type": "code",
   "execution_count": null,
   "metadata": {},
   "outputs": [],
   "source": []
  }
 ],
 "metadata": {
  "kernelspec": {
   "display_name": "Python 3",
   "language": "python",
   "name": "python3"
  },
  "language_info": {
   "codemirror_mode": {
    "name": "ipython",
    "version": 3
   },
   "file_extension": ".py",
   "mimetype": "text/x-python",
   "name": "python",
   "nbconvert_exporter": "python",
   "pygments_lexer": "ipython3",
   "version": "3.7.4"
  }
 },
 "nbformat": 4,
 "nbformat_minor": 2
}
