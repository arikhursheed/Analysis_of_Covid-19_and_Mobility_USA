{
 "cells": [
  {
   "cell_type": "code",
   "execution_count": null,
   "metadata": {},
   "outputs": [],
   "source": [
    "import pandas as pd"
   ]
  },
  {
   "cell_type": "markdown",
   "metadata": {},
   "source": [
    "# import Global_Mobility_Report from website"
   ]
  },
  {
   "cell_type": "raw",
   "metadata": {},
   "source": [
    "filter to only united sates information\n",
    "drop not wanted columns\n",
    "renames columns\n",
    "save the file"
   ]
  },
  {
   "cell_type": "code",
   "execution_count": null,
   "metadata": {},
   "outputs": [],
   "source": [
    "#%%time\n",
    "\n",
    "#create an empty chunk list\n",
    "united_states =[]\n",
    "\n",
    "for chunk in pd.read_csv('https://www.gstatic.com/covid19/mobility/Global_Mobility_Report.csv',chunksize = 1000):\n",
    "\n",
    "    \n",
    "#filter to only United States  \n",
    "    chunk = chunk[chunk['country_region'] == 'United States']\n",
    "    \n",
    "    #chunk = chunk['sub_region_1'] != 'NaN'\n",
    "   # chunk.dropna=['sub_region_1'])\n",
    "    united_states.append(chunk) \n",
    "    \n",
    "#concat the chunk list to one dataframe               \n",
    "df_united_states = pd.concat(united_states, ignore_index=True)"
   ]
  },
  {
   "cell_type": "code",
   "execution_count": null,
   "metadata": {},
   "outputs": [],
   "source": [
    "df_united_states.tail()"
   ]
  },
  {
   "cell_type": "code",
   "execution_count": null,
   "metadata": {},
   "outputs": [],
   "source": [
    "#another way to import the cell above\n",
    "df_globe_mobility=pd.read_csv('https://www.gstatic.com/covid19/mobility/Global_Mobility_Report.csv')\n",
    "df_united_states=df_globe_mobility[df_globe_mobility['country_region']== 'United States']"
   ]
  },
  {
   "cell_type": "code",
   "execution_count": null,
   "metadata": {},
   "outputs": [],
   "source": [
    "#drop not needed columns from the dataframe\n",
    "df_states = df_united_states.drop(['sub_region_2','country_region_code'], axis=1)\n",
    "\n",
    "df_states.tail()"
   ]
  },
  {
   "cell_type": "code",
   "execution_count": null,
   "metadata": {},
   "outputs": [],
   "source": [
    "print(df_states.shape)"
   ]
  },
  {
   "cell_type": "markdown",
   "metadata": {},
   "source": [
    "clean names of columns"
   ]
  },
  {
   "cell_type": "code",
   "execution_count": null,
   "metadata": {},
   "outputs": [],
   "source": [
    "\n",
    "df_mobility = df_states.rename(columns={'country_region':'country',\n",
    "                                          'sub_region_1': 'states',\n",
    "    'retail_and_recreation_percent_change_from_baseline': 'retail_and_recreation',\n",
    "     'grocery_and_pharmacy_percent_change_from_baseline': 'grocery_and_pharmacy',\n",
    "                    'parks_percent_change_from_baseline': 'parks',\n",
    "         'transit_stations_percent_change_from_baseline': 'transit_stations',\n",
    "               'workplaces_percent_change_from_baseline': 'workplaces',\n",
    "              'residential_percent_change_from_baseline': 'residential'})\n",
    "df_mobility.head()"
   ]
  },
  {
   "cell_type": "code",
   "execution_count": null,
   "metadata": {
    "scrolled": true
   },
   "outputs": [],
   "source": [
    "df_mobility['states'].value_counts()"
   ]
  },
  {
   "cell_type": "code",
   "execution_count": null,
   "metadata": {},
   "outputs": [],
   "source": [
    "df_mobility.info()"
   ]
  },
  {
   "cell_type": "code",
   "execution_count": null,
   "metadata": {},
   "outputs": [],
   "source": [
    "#save the dataframe to csv file\n",
    "df_mobility.to_csv('../data/united_states_mobility2.csv')"
   ]
  },
  {
   "cell_type": "code",
   "execution_count": null,
   "metadata": {},
   "outputs": [],
   "source": []
  }
 ],
 "metadata": {
  "kernelspec": {
   "display_name": "Python 3",
   "language": "python",
   "name": "python3"
  },
  "language_info": {
   "codemirror_mode": {
    "name": "ipython",
    "version": 3
   },
   "file_extension": ".py",
   "mimetype": "text/x-python",
   "name": "python",
   "nbconvert_exporter": "python",
   "pygments_lexer": "ipython3",
   "version": "3.7.4"
  }
 },
 "nbformat": 4,
 "nbformat_minor": 2
}
