{
 "cells": [
  {
   "cell_type": "code",
   "execution_count": null,
   "metadata": {},
   "outputs": [],
   "source": [
    "import pandas as pd\n",
    "import numpy as np"
   ]
  },
  {
   "cell_type": "markdown",
   "metadata": {},
   "source": [
    "# Read in states"
   ]
  },
  {
   "cell_type": "code",
   "execution_count": null,
   "metadata": {},
   "outputs": [],
   "source": [
    "covid19_all_states = pd.read_csv('../data/covid_19_daily_update_allStates_2.csv')"
   ]
  },
  {
   "cell_type": "code",
   "execution_count": null,
   "metadata": {},
   "outputs": [],
   "source": [
    "covid19_all_states.head()"
   ]
  },
  {
   "cell_type": "code",
   "execution_count": null,
   "metadata": {},
   "outputs": [],
   "source": [
    "covid19_all_states.sort_values(by=['state', 'date']).head()"
   ]
  },
  {
   "cell_type": "code",
   "execution_count": null,
   "metadata": {},
   "outputs": [],
   "source": [
    "covid19_all_states.info()"
   ]
  },
  {
   "cell_type": "markdown",
   "metadata": {},
   "source": [
    "# Read in Mobility"
   ]
  },
  {
   "cell_type": "code",
   "execution_count": null,
   "metadata": {},
   "outputs": [],
   "source": [
    "mobility_all_states = pd.read_csv('../data/united_states_mobility2.csv')"
   ]
  },
  {
   "cell_type": "code",
   "execution_count": null,
   "metadata": {
    "scrolled": true
   },
   "outputs": [],
   "source": [
    "mobility_all_states.head()"
   ]
  },
  {
   "cell_type": "code",
   "execution_count": null,
   "metadata": {},
   "outputs": [],
   "source": [
    "mobility_all_states.shape"
   ]
  },
  {
   "cell_type": "code",
   "execution_count": null,
   "metadata": {},
   "outputs": [],
   "source": [
    "#filter to state with counties. remove blank rows\n",
    "test = mobility_all_states.loc[(mobility_all_states[\"state\"] == \"Tennessee\") & (mobility_all_states[\"county\"].notnull())]"
   ]
  },
  {
   "cell_type": "code",
   "execution_count": null,
   "metadata": {},
   "outputs": [],
   "source": [
    "#count counites\n",
    "test[\"county\"].nunique()"
   ]
  },
  {
   "cell_type": "markdown",
   "metadata": {},
   "source": [
    "Melt the dataframe to create mobility column so it will be useful as a slicer in charts"
   ]
  },
  {
   "cell_type": "code",
   "execution_count": null,
   "metadata": {},
   "outputs": [],
   "source": [
    "mobility_all_states_melt = pd.melt( mobility_all_states,\n",
    "                         id_vars= ['country_code','state','date', 'county'],\n",
    "                         value_vars= ['retail_and_recreation',\n",
    "                                      'grocery_and_pharmacy',\n",
    "                                                    'parks',\n",
    "                                       'transit_stations',\n",
    "                                           'workplaces',\n",
    "                                      'residential' ],\n",
    "                         var_name= 'mobility',\n",
    "                         value_name= 'percent_change'\n",
    "                                         )"
   ]
  },
  {
   "cell_type": "code",
   "execution_count": null,
   "metadata": {},
   "outputs": [],
   "source": [
    "mobility_all_states_melt.head()"
   ]
  },
  {
   "cell_type": "code",
   "execution_count": null,
   "metadata": {},
   "outputs": [],
   "source": [
    "mobility_all_states_melt.shape"
   ]
  },
  {
   "cell_type": "code",
   "execution_count": null,
   "metadata": {},
   "outputs": [],
   "source": [
    "mobility_all_states_melt.sort_values(by=['state', 'date'])"
   ]
  },
  {
   "cell_type": "code",
   "execution_count": null,
   "metadata": {},
   "outputs": [],
   "source": [
    "mobility_all_states_melt.info()"
   ]
  },
  {
   "cell_type": "markdown",
   "metadata": {},
   "source": [
    "# Merge both dataframes, melt and original mobility"
   ]
  },
  {
   "cell_type": "code",
   "execution_count": null,
   "metadata": {},
   "outputs": [],
   "source": [
    "join_dfs = pd.merge(\n",
    "                   mobility_all_states_melt,\n",
    "                     mobility_all_states,\n",
    "                                on = ['country_code', 'state','date', 'county'],\n",
    "                                how = 'left')"
   ]
  },
  {
   "cell_type": "code",
   "execution_count": null,
   "metadata": {},
   "outputs": [],
   "source": [
    "join_dfs.head()"
   ]
  },
  {
   "cell_type": "code",
   "execution_count": null,
   "metadata": {},
   "outputs": [],
   "source": [
    "join_dfs.shape"
   ]
  },
  {
   "cell_type": "code",
   "execution_count": null,
   "metadata": {},
   "outputs": [],
   "source": [
    "join_dfs.sort_values(by=['state', 'date']).head()"
   ]
  },
  {
   "cell_type": "markdown",
   "metadata": {},
   "source": [
    "merge both covid-19 and the new mobility dataframe"
   ]
  },
  {
   "cell_type": "code",
   "execution_count": null,
   "metadata": {},
   "outputs": [],
   "source": [
    "join_dfs_mobility_covid = pd.merge(\n",
    "                                     join_dfs,\n",
    "                         covid19_all_states,\n",
    "                                on = ['state','date'],\n",
    "                                how = 'left', sort = True)"
   ]
  },
  {
   "cell_type": "code",
   "execution_count": null,
   "metadata": {},
   "outputs": [],
   "source": [
    "join_dfs_mobility_covid.head()"
   ]
  },
  {
   "cell_type": "code",
   "execution_count": null,
   "metadata": {},
   "outputs": [],
   "source": [
    "join_dfs_mobility_covid.shape"
   ]
  },
  {
   "cell_type": "code",
   "execution_count": null,
   "metadata": {},
   "outputs": [],
   "source": [
    "#join_dfs['state'].nunique()"
   ]
  },
  {
   "cell_type": "code",
   "execution_count": null,
   "metadata": {},
   "outputs": [],
   "source": [
    "#join_dfs['county'].nunique() "
   ]
  },
  {
   "cell_type": "markdown",
   "metadata": {},
   "source": [
    "# Read in lockdown\n",
    "join it on state column"
   ]
  },
  {
   "cell_type": "code",
   "execution_count": null,
   "metadata": {},
   "outputs": [],
   "source": [
    "lockdown_dates= pd.read_csv('../data/states_lockdown_dates.csv')\n",
    "#lockdown_dates"
   ]
  },
  {
   "cell_type": "code",
   "execution_count": null,
   "metadata": {},
   "outputs": [],
   "source": [
    "lockdown_dates = lockdown_dates.rename(columns={'State' : 'state'})"
   ]
  },
  {
   "cell_type": "markdown",
   "metadata": {},
   "source": [
    "# Join  tow dataframes , mobility_covid and lockdown_dates\n",
    "Join three datafranes mobility and covid with lockdown on state column"
   ]
  },
  {
   "cell_type": "code",
   "execution_count": null,
   "metadata": {},
   "outputs": [],
   "source": [
    "join_dfs_mobility_covid_lockdown = pd.merge(\n",
    "                                     join_dfs_mobility_covid,\n",
    "                                             lockdown_dates,\n",
    "                                on = ['state'],\n",
    "                                how = 'left')"
   ]
  },
  {
   "cell_type": "code",
   "execution_count": null,
   "metadata": {},
   "outputs": [],
   "source": [
    "join_dfs_mobility_covid_lockdown.head()"
   ]
  },
  {
   "cell_type": "code",
   "execution_count": null,
   "metadata": {},
   "outputs": [],
   "source": [
    "join_dfs_mobility_covid_lockdown.info()"
   ]
  },
  {
   "cell_type": "code",
   "execution_count": null,
   "metadata": {},
   "outputs": [],
   "source": [
    "#rename column\n",
    "#join_dfs_mobility_covid_lockdown=join_dfs_mobility_covid_lockdown.rename(columns={\"census_fips_code\": \"fips\"})"
   ]
  },
  {
   "cell_type": "code",
   "execution_count": null,
   "metadata": {},
   "outputs": [],
   "source": [
    "#join_dfs_mobility_covid_lockdown.info()"
   ]
  },
  {
   "cell_type": "code",
   "execution_count": null,
   "metadata": {},
   "outputs": [],
   "source": [
    "join_dfs_mobility_covid_lockdown['county'].nunique()"
   ]
  },
  {
   "cell_type": "code",
   "execution_count": null,
   "metadata": {},
   "outputs": [],
   "source": []
  },
  {
   "cell_type": "code",
   "execution_count": null,
   "metadata": {},
   "outputs": [],
   "source": [
    "#list_countyies= list(join_dfs_mobility_covid_lockdown['county'].unique())\n",
    "#list_countyies"
   ]
  },
  {
   "cell_type": "code",
   "execution_count": null,
   "metadata": {},
   "outputs": [],
   "source": []
  },
  {
   "cell_type": "code",
   "execution_count": null,
   "metadata": {},
   "outputs": [],
   "source": [
    "#filter to state without counties\n",
    "test1 = join_dfs_mobility_covid_lockdown.loc[(join_dfs_mobility_covid_lockdown[\"state\"] == \"Alabama\") & (join_dfs_mobility_covid_lockdown[\"county\"]== \"Autauga\" ) & (join_dfs_mobility_covid_lockdown[\"date\"]== \"2020-02-15\")]\n",
    "test1"
   ]
  },
  {
   "cell_type": "markdown",
   "metadata": {},
   "source": [
    "# load csv file for all counties"
   ]
  },
  {
   "cell_type": "code",
   "execution_count": null,
   "metadata": {},
   "outputs": [],
   "source": [
    "all_states_counties= pd.read_csv('../data/covid_19_update_allStatesAndCounties_3.csv')"
   ]
  },
  {
   "cell_type": "code",
   "execution_count": null,
   "metadata": {},
   "outputs": [],
   "source": [
    "all_states_counties.head()"
   ]
  },
  {
   "cell_type": "code",
   "execution_count": null,
   "metadata": {},
   "outputs": [],
   "source": [
    "all_states_counties.info()"
   ]
  },
  {
   "cell_type": "code",
   "execution_count": null,
   "metadata": {},
   "outputs": [],
   "source": [
    "all_states_counties= all_states_counties.rename(columns={\"cases\" :\"county_cases\", \"deaths\" : \"county_deaths\"})"
   ]
  },
  {
   "cell_type": "code",
   "execution_count": null,
   "metadata": {},
   "outputs": [],
   "source": [
    "all_states_counties['county'].nunique()"
   ]
  },
  {
   "cell_type": "code",
   "execution_count": null,
   "metadata": {},
   "outputs": [],
   "source": [
    "all_states_counties['county'].unique()"
   ]
  },
  {
   "cell_type": "code",
   "execution_count": null,
   "metadata": {},
   "outputs": [],
   "source": [
    "list_counties= list(all_states_counties['county'].unique())\n",
    "#list_counties"
   ]
  },
  {
   "cell_type": "code",
   "execution_count": null,
   "metadata": {},
   "outputs": [],
   "source": [
    "#filter to state without counties\n",
    "test = all_states_counties.loc[(all_states_counties[\"state\"] == \"Alabama\") & (all_states_counties[\"county\"]== \"Autauga\" ) & (all_states_counties[\"date\"]== \"2020-03-25\")]"
   ]
  },
  {
   "cell_type": "code",
   "execution_count": null,
   "metadata": {},
   "outputs": [],
   "source": [
    "test"
   ]
  },
  {
   "cell_type": "code",
   "execution_count": null,
   "metadata": {},
   "outputs": [],
   "source": [
    "all_states_counties.shape"
   ]
  },
  {
   "cell_type": "markdown",
   "metadata": {},
   "source": [
    "# Join all dataframes "
   ]
  },
  {
   "cell_type": "code",
   "execution_count": null,
   "metadata": {},
   "outputs": [],
   "source": [
    "join_dfs_counties_states_mobility = pd.merge(\n",
    "                                             join_dfs_mobility_covid_lockdown,\n",
    "                                                         all_states_counties,\n",
    "                                                on = ['date','county', 'state'],\n",
    "                                                how = 'left')"
   ]
  },
  {
   "cell_type": "code",
   "execution_count": null,
   "metadata": {},
   "outputs": [],
   "source": [
    "join_dfs_counties_states_mobility.head()"
   ]
  },
  {
   "cell_type": "code",
   "execution_count": null,
   "metadata": {},
   "outputs": [],
   "source": [
    "join_dfs_counties_states_mobility.shape"
   ]
  },
  {
   "cell_type": "code",
   "execution_count": null,
   "metadata": {},
   "outputs": [],
   "source": [
    "join_dfs_counties_states_mobility.columns"
   ]
  },
  {
   "cell_type": "code",
   "execution_count": null,
   "metadata": {},
   "outputs": [],
   "source": [
    "#change the name of the dataframe\n",
    "df = join_dfs_counties_states_mobility"
   ]
  },
  {
   "cell_type": "code",
   "execution_count": null,
   "metadata": {},
   "outputs": [],
   "source": [
    "#fill nan with zero inorder to convert the column data type to integer\n",
    "df['percent_change']=                     df['percent_change'].fillna(0)\n",
    "df['retail_and_recreation']=       df['retail_and_recreation'].fillna(0)\n",
    "df['grocery_and_pharmacy']=         df['grocery_and_pharmacy'].fillna(0)\n",
    "df['parks']=                                       df['parks'].fillna(0)\n",
    "df['transit_stations']=                 df['transit_stations'].fillna(0)\n",
    "df['workplaces']=                             df['workplaces'].fillna(0)\n",
    "df['residential']=                           df['residential'].fillna(0)\n",
    "df['fips_x']=                                     df['fips_x'].fillna(0)\n",
    "df['positive']=                                 df['positive'].fillna(0)\n",
    "df['positiveIncrease']=                 df['positiveIncrease'].fillna(0)\n",
    "df['negative']=                                 df['negative'].fillna(0)\n",
    "df['negativeIncrease']=                 df['negativeIncrease'].fillna(0)\n",
    "df['totalTestResults'] =                df['totalTestResults'].fillna(0)\n",
    "df['totalTestResultsIncrease']= df['totalTestResultsIncrease'].fillna(0)\n",
    "df['hospitalizedCurrently']=       df['hospitalizedCurrently'].fillna(0)\n",
    "df['hospitalizedIncrease']=         df['hospitalizedIncrease'].fillna(0)\n",
    "df['death']=                                       df['death'].fillna(0)\n",
    "df['deathIncrease']=                       df['deathIncrease'].fillna(0)\n",
    "df['total']=                                       df['total'].fillna(0)\n",
    "df['recovered']=                               df['recovered'].fillna(0)\n",
    "df['fips_y']=                                     df['fips_y'].fillna(0)\n",
    "#df['county_cases']=                         df['county_cases'].fillna(0)\n",
    "#df['county_deaths']=                       df['county_deaths'].fillna(0)"
   ]
  },
  {
   "cell_type": "markdown",
   "metadata": {},
   "source": [
    "convert the data type of columns to integer"
   ]
  },
  {
   "cell_type": "code",
   "execution_count": null,
   "metadata": {},
   "outputs": [],
   "source": [
    "df['percent_change'] =                     df['percent_change'].astype(int)\n",
    "df['retail_and_recreation'] =       df['retail_and_recreation'].astype(int)\n",
    "df['grocery_and_pharmacy'] =         df['grocery_and_pharmacy'].astype(int)\n",
    "df['parks'] =                                       df['parks'].astype(int)\n",
    "df['transit_stations'] =                 df['transit_stations'].astype(int)\n",
    "df['workplaces'] =                             df['workplaces'].astype(int)\n",
    "df['residential'] =                           df['residential'].astype(int)\n",
    "df['fips_x'] =                                     df['fips_x'].astype(int)\n",
    "df['positive'] =                                 df['positive'].astype(int)\n",
    "df['positiveIncrease'] =                 df['positiveIncrease'].astype(int)\n",
    "df['negative'] =                                 df['negative'].astype(int)\n",
    "df['negativeIncrease'] =                 df['negativeIncrease'].astype(int)\n",
    "df['totalTestResults'] =                 df['totalTestResults'].astype(int)\n",
    "df['totalTestResultsIncrease'] = df['totalTestResultsIncrease'].astype(int)\n",
    "df['hospitalizedCurrently'] =       df['hospitalizedCurrently'].astype(int)\n",
    "df['hospitalizedIncrease'] =         df['hospitalizedIncrease'].astype(int)\n",
    "df['death'] =                                       df['death'].astype(int)\n",
    "df['deathIncrease'] =                       df['deathIncrease'].astype(int)\n",
    "df['recovered'] =                               df['recovered'].astype(int)\n",
    "df['total'] =                                       df['total'].astype(int)\n",
    "df['fips_y'] =                                     df['fips_y'].astype(int)\n",
    "#df['county_cases'] =                         df['county_cases'].astype(int)\n",
    "#df['county_deaths'] =                       df['county_deaths'].astype(int)\n",
    "df['percent_change'] =                     df['percent_change'].astype(int)\n",
    "df['percent_change'] =                     df['percent_change'].astype(int)"
   ]
  },
  {
   "cell_type": "code",
   "execution_count": null,
   "metadata": {},
   "outputs": [],
   "source": [
    "#change the data type of date to datetype\n",
    "df['date'] = pd.to_datetime(df['date'], errors='coerce')\n",
    "df['date_start'] = pd.to_datetime(df['date_start'], errors= 'coerce')\n",
    "df['date_end'] = pd.to_datetime(df['date_end'], errors= 'coerce')"
   ]
  },
  {
   "cell_type": "markdown",
   "metadata": {},
   "source": [
    "create a new column for number of days states had lockdown"
   ]
  },
  {
   "cell_type": "code",
   "execution_count": null,
   "metadata": {},
   "outputs": [],
   "source": [
    "#find number of days during lockdown\n",
    "df['diff_days'] = df['date_end'] - df['date_start']\n",
    "df['diff_days']=df['diff_days']/np.timedelta64(1,'D')"
   ]
  },
  {
   "cell_type": "code",
   "execution_count": null,
   "metadata": {},
   "outputs": [],
   "source": [
    "df.info()"
   ]
  },
  {
   "cell_type": "code",
   "execution_count": null,
   "metadata": {},
   "outputs": [],
   "source": [
    "df.tail()"
   ]
  },
  {
   "cell_type": "code",
   "execution_count": null,
   "metadata": {},
   "outputs": [],
   "source": [
    "#test"
   ]
  },
  {
   "cell_type": "code",
   "execution_count": null,
   "metadata": {},
   "outputs": [],
   "source": [
    "df['county'].nunique()"
   ]
  },
  {
   "cell_type": "code",
   "execution_count": null,
   "metadata": {},
   "outputs": [],
   "source": [
    "df.shape"
   ]
  },
  {
   "cell_type": "code",
   "execution_count": null,
   "metadata": {},
   "outputs": [],
   "source": [
    "df.columns"
   ]
  },
  {
   "cell_type": "code",
   "execution_count": null,
   "metadata": {},
   "outputs": [],
   "source": [
    "#drop some columns\n",
    "cols = ['fips_y','iso_3166_2_code', 'census_fips_code']\n",
    "df2 = df.drop(cols, axis=1)"
   ]
  },
  {
   "cell_type": "markdown",
   "metadata": {},
   "source": [
    "# final csv file combined all 4 dataframes "
   ]
  },
  {
   "cell_type": "markdown",
   "metadata": {},
   "source": [
    "Continue to the analysis notebook for visualization and also for power bi dashboard"
   ]
  },
  {
   "cell_type": "code",
   "execution_count": null,
   "metadata": {},
   "outputs": [],
   "source": [
    "df2.to_csv('../data/all_counties_states_mobility.csv', index=False)"
   ]
  },
  {
   "cell_type": "code",
   "execution_count": null,
   "metadata": {},
   "outputs": [],
   "source": []
  }
 ],
 "metadata": {
  "kernelspec": {
   "display_name": "Python 3",
   "language": "python",
   "name": "python3"
  },
  "language_info": {
   "codemirror_mode": {
    "name": "ipython",
    "version": 3
   },
   "file_extension": ".py",
   "mimetype": "text/x-python",
   "name": "python",
   "nbconvert_exporter": "python",
   "pygments_lexer": "ipython3",
   "version": "3.7.4"
  }
 },
 "nbformat": 4,
 "nbformat_minor": 2
}
